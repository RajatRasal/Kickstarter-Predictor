{
 "cells": [
  {
   "cell_type": "code",
   "execution_count": 65,
   "metadata": {
    "collapsed": true
   },
   "outputs": [],
   "source": [
    "import gc\n",
    "import numpy as np\n",
    "import pandas as pd\n",
    "import matplotlib.pyplot as plt\n",
    "import seaborn as sns\n",
    "%matplotlib inline\n",
    "\n",
    "import warnings\n",
    "warnings.filterwarnings(\"ignore\")\n",
    "\n",
    "plt.style.use(\"Solarize_Light2\")"
   ]
  },
  {
   "cell_type": "markdown",
   "metadata": {},
   "source": [
    "## Loading Data"
   ]
  },
  {
   "cell_type": "code",
   "execution_count": 123,
   "metadata": {},
   "outputs": [
    {
     "data": {
      "text/html": [
       "<div>\n",
       "<style scoped>\n",
       "    .dataframe tbody tr th:only-of-type {\n",
       "        vertical-align: middle;\n",
       "    }\n",
       "\n",
       "    .dataframe tbody tr th {\n",
       "        vertical-align: top;\n",
       "    }\n",
       "\n",
       "    .dataframe thead th {\n",
       "        text-align: right;\n",
       "    }\n",
       "</style>\n",
       "<table border=\"1\" class=\"dataframe\">\n",
       "  <thead>\n",
       "    <tr style=\"text-align: right;\">\n",
       "      <th></th>\n",
       "      <th>id</th>\n",
       "      <th>photo</th>\n",
       "      <th>name</th>\n",
       "      <th>blurb</th>\n",
       "      <th>goal</th>\n",
       "      <th>slug</th>\n",
       "      <th>disable_communication</th>\n",
       "      <th>country</th>\n",
       "      <th>currency</th>\n",
       "      <th>currency_symbol</th>\n",
       "      <th>...</th>\n",
       "      <th>location</th>\n",
       "      <th>category</th>\n",
       "      <th>profile</th>\n",
       "      <th>urls</th>\n",
       "      <th>source_url</th>\n",
       "      <th>friends</th>\n",
       "      <th>is_starred</th>\n",
       "      <th>is_backing</th>\n",
       "      <th>permissions</th>\n",
       "      <th>state</th>\n",
       "    </tr>\n",
       "  </thead>\n",
       "  <tbody>\n",
       "    <tr>\n",
       "      <th>0</th>\n",
       "      <td>663816109</td>\n",
       "      <td>{\"small\":\"https://ksr-ugc.imgix.net/assets/012...</td>\n",
       "      <td>Angular - Where Modern Art meets Cards</td>\n",
       "      <td>Angular is a minimalist card design for simpli...</td>\n",
       "      <td>17380.0</td>\n",
       "      <td>angular-where-modern-art-meets-cards</td>\n",
       "      <td>False</td>\n",
       "      <td>US</td>\n",
       "      <td>USD</td>\n",
       "      <td>$</td>\n",
       "      <td>...</td>\n",
       "      <td>{\"country\":\"US\",\"urls\":{\"web\":{\"discover\":\"htt...</td>\n",
       "      <td>{\"urls\":{\"web\":{\"discover\":\"http://www.kicksta...</td>\n",
       "      <td>{\"background_image_opacity\":0.8,\"should_show_f...</td>\n",
       "      <td>{\"web\":{\"project\":\"https://www.kickstarter.com...</td>\n",
       "      <td>https://www.kickstarter.com/discover/categorie...</td>\n",
       "      <td>NaN</td>\n",
       "      <td>NaN</td>\n",
       "      <td>NaN</td>\n",
       "      <td>NaN</td>\n",
       "      <td>failed</td>\n",
       "    </tr>\n",
       "    <tr>\n",
       "      <th>1</th>\n",
       "      <td>1462931821</td>\n",
       "      <td>{\"small\":\"https://ksr-ugc.imgix.net/assets/014...</td>\n",
       "      <td>Ladybeard is KAWAII-CORE</td>\n",
       "      <td>Original songs and music videos to jump start ...</td>\n",
       "      <td>24000.0</td>\n",
       "      <td>ladybeard-is-kawaii-core</td>\n",
       "      <td>False</td>\n",
       "      <td>US</td>\n",
       "      <td>USD</td>\n",
       "      <td>$</td>\n",
       "      <td>...</td>\n",
       "      <td>{\"country\":\"JP\",\"urls\":{\"web\":{\"discover\":\"htt...</td>\n",
       "      <td>{\"urls\":{\"web\":{\"discover\":\"http://www.kicksta...</td>\n",
       "      <td>{\"background_image_opacity\":0.8,\"should_show_f...</td>\n",
       "      <td>{\"web\":{\"project\":\"https://www.kickstarter.com...</td>\n",
       "      <td>https://www.kickstarter.com/discover/categorie...</td>\n",
       "      <td>NaN</td>\n",
       "      <td>NaN</td>\n",
       "      <td>NaN</td>\n",
       "      <td>NaN</td>\n",
       "      <td>failed</td>\n",
       "    </tr>\n",
       "    <tr>\n",
       "      <th>2</th>\n",
       "      <td>1724358498</td>\n",
       "      <td>{\"small\":\"https://ksr-ugc.imgix.net/assets/011...</td>\n",
       "      <td>Vegan Cafe Delivery Service in Vancouver BC</td>\n",
       "      <td>Our project is to launch a vegan lunch deliver...</td>\n",
       "      <td>40000.0</td>\n",
       "      <td>vegancafeca</td>\n",
       "      <td>False</td>\n",
       "      <td>CA</td>\n",
       "      <td>CAD</td>\n",
       "      <td>$</td>\n",
       "      <td>...</td>\n",
       "      <td>{\"country\":\"CA\",\"urls\":{\"web\":{\"discover\":\"htt...</td>\n",
       "      <td>{\"urls\":{\"web\":{\"discover\":\"http://www.kicksta...</td>\n",
       "      <td>{\"background_image_opacity\":0.8,\"should_show_f...</td>\n",
       "      <td>{\"web\":{\"project\":\"https://www.kickstarter.com...</td>\n",
       "      <td>https://www.kickstarter.com/discover/categorie...</td>\n",
       "      <td>NaN</td>\n",
       "      <td>NaN</td>\n",
       "      <td>NaN</td>\n",
       "      <td>NaN</td>\n",
       "      <td>failed</td>\n",
       "    </tr>\n",
       "    <tr>\n",
       "      <th>3</th>\n",
       "      <td>314918941</td>\n",
       "      <td>{\"small\":\"https://ksr-ugc.imgix.net/assets/011...</td>\n",
       "      <td>Photoetched Rail Yard Exposition</td>\n",
       "      <td>I have developed a process of my own which tra...</td>\n",
       "      <td>1000.0</td>\n",
       "      <td>photoetched-rail-yard-exposition</td>\n",
       "      <td>False</td>\n",
       "      <td>US</td>\n",
       "      <td>USD</td>\n",
       "      <td>$</td>\n",
       "      <td>...</td>\n",
       "      <td>{\"country\":\"US\",\"urls\":{\"web\":{\"discover\":\"htt...</td>\n",
       "      <td>{\"urls\":{\"web\":{\"discover\":\"http://www.kicksta...</td>\n",
       "      <td>{\"background_image_opacity\":0.8,\"should_show_f...</td>\n",
       "      <td>{\"web\":{\"project\":\"https://www.kickstarter.com...</td>\n",
       "      <td>https://www.kickstarter.com/discover/categorie...</td>\n",
       "      <td>NaN</td>\n",
       "      <td>NaN</td>\n",
       "      <td>NaN</td>\n",
       "      <td>NaN</td>\n",
       "      <td>successful</td>\n",
       "    </tr>\n",
       "    <tr>\n",
       "      <th>4</th>\n",
       "      <td>1766165140</td>\n",
       "      <td>{\"small\":\"https://ksr-ugc.imgix.net/assets/011...</td>\n",
       "      <td>Cinnamon Fletcher needs to be brought to life!</td>\n",
       "      <td>Need to pay an illustrator to bring my childre...</td>\n",
       "      <td>700.0</td>\n",
       "      <td>cinnamon-fletcher-needs-to-be-brought-to-life</td>\n",
       "      <td>False</td>\n",
       "      <td>GB</td>\n",
       "      <td>GBP</td>\n",
       "      <td>Â£</td>\n",
       "      <td>...</td>\n",
       "      <td>{\"country\":\"GB\",\"urls\":{\"web\":{\"discover\":\"htt...</td>\n",
       "      <td>{\"urls\":{\"web\":{\"discover\":\"http://www.kicksta...</td>\n",
       "      <td>{\"background_image_opacity\":0.8,\"should_show_f...</td>\n",
       "      <td>{\"web\":{\"project\":\"https://www.kickstarter.com...</td>\n",
       "      <td>https://www.kickstarter.com/discover/categorie...</td>\n",
       "      <td>NaN</td>\n",
       "      <td>NaN</td>\n",
       "      <td>NaN</td>\n",
       "      <td>NaN</td>\n",
       "      <td>failed</td>\n",
       "    </tr>\n",
       "  </tbody>\n",
       "</table>\n",
       "<p>5 rows × 26 columns</p>\n",
       "</div>"
      ],
      "text/plain": [
       "           id                                              photo  \\\n",
       "0   663816109  {\"small\":\"https://ksr-ugc.imgix.net/assets/012...   \n",
       "1  1462931821  {\"small\":\"https://ksr-ugc.imgix.net/assets/014...   \n",
       "2  1724358498  {\"small\":\"https://ksr-ugc.imgix.net/assets/011...   \n",
       "3   314918941  {\"small\":\"https://ksr-ugc.imgix.net/assets/011...   \n",
       "4  1766165140  {\"small\":\"https://ksr-ugc.imgix.net/assets/011...   \n",
       "\n",
       "                                             name  \\\n",
       "0          Angular - Where Modern Art meets Cards   \n",
       "1                        Ladybeard is KAWAII-CORE   \n",
       "2     Vegan Cafe Delivery Service in Vancouver BC   \n",
       "3                Photoetched Rail Yard Exposition   \n",
       "4  Cinnamon Fletcher needs to be brought to life!   \n",
       "\n",
       "                                               blurb     goal  \\\n",
       "0  Angular is a minimalist card design for simpli...  17380.0   \n",
       "1  Original songs and music videos to jump start ...  24000.0   \n",
       "2  Our project is to launch a vegan lunch deliver...  40000.0   \n",
       "3  I have developed a process of my own which tra...   1000.0   \n",
       "4  Need to pay an illustrator to bring my childre...    700.0   \n",
       "\n",
       "                                            slug  disable_communication  \\\n",
       "0           angular-where-modern-art-meets-cards                  False   \n",
       "1                       ladybeard-is-kawaii-core                  False   \n",
       "2                                    vegancafeca                  False   \n",
       "3               photoetched-rail-yard-exposition                  False   \n",
       "4  cinnamon-fletcher-needs-to-be-brought-to-life                  False   \n",
       "\n",
       "  country currency currency_symbol     ...      \\\n",
       "0      US      USD               $     ...       \n",
       "1      US      USD               $     ...       \n",
       "2      CA      CAD               $     ...       \n",
       "3      US      USD               $     ...       \n",
       "4      GB      GBP              Â£     ...       \n",
       "\n",
       "                                            location  \\\n",
       "0  {\"country\":\"US\",\"urls\":{\"web\":{\"discover\":\"htt...   \n",
       "1  {\"country\":\"JP\",\"urls\":{\"web\":{\"discover\":\"htt...   \n",
       "2  {\"country\":\"CA\",\"urls\":{\"web\":{\"discover\":\"htt...   \n",
       "3  {\"country\":\"US\",\"urls\":{\"web\":{\"discover\":\"htt...   \n",
       "4  {\"country\":\"GB\",\"urls\":{\"web\":{\"discover\":\"htt...   \n",
       "\n",
       "                                            category  \\\n",
       "0  {\"urls\":{\"web\":{\"discover\":\"http://www.kicksta...   \n",
       "1  {\"urls\":{\"web\":{\"discover\":\"http://www.kicksta...   \n",
       "2  {\"urls\":{\"web\":{\"discover\":\"http://www.kicksta...   \n",
       "3  {\"urls\":{\"web\":{\"discover\":\"http://www.kicksta...   \n",
       "4  {\"urls\":{\"web\":{\"discover\":\"http://www.kicksta...   \n",
       "\n",
       "                                             profile  \\\n",
       "0  {\"background_image_opacity\":0.8,\"should_show_f...   \n",
       "1  {\"background_image_opacity\":0.8,\"should_show_f...   \n",
       "2  {\"background_image_opacity\":0.8,\"should_show_f...   \n",
       "3  {\"background_image_opacity\":0.8,\"should_show_f...   \n",
       "4  {\"background_image_opacity\":0.8,\"should_show_f...   \n",
       "\n",
       "                                                urls  \\\n",
       "0  {\"web\":{\"project\":\"https://www.kickstarter.com...   \n",
       "1  {\"web\":{\"project\":\"https://www.kickstarter.com...   \n",
       "2  {\"web\":{\"project\":\"https://www.kickstarter.com...   \n",
       "3  {\"web\":{\"project\":\"https://www.kickstarter.com...   \n",
       "4  {\"web\":{\"project\":\"https://www.kickstarter.com...   \n",
       "\n",
       "                                          source_url friends is_starred  \\\n",
       "0  https://www.kickstarter.com/discover/categorie...     NaN        NaN   \n",
       "1  https://www.kickstarter.com/discover/categorie...     NaN        NaN   \n",
       "2  https://www.kickstarter.com/discover/categorie...     NaN        NaN   \n",
       "3  https://www.kickstarter.com/discover/categorie...     NaN        NaN   \n",
       "4  https://www.kickstarter.com/discover/categorie...     NaN        NaN   \n",
       "\n",
       "  is_backing permissions       state  \n",
       "0        NaN         NaN      failed  \n",
       "1        NaN         NaN      failed  \n",
       "2        NaN         NaN      failed  \n",
       "3        NaN         NaN  successful  \n",
       "4        NaN         NaN      failed  \n",
       "\n",
       "[5 rows x 26 columns]"
      ]
     },
     "execution_count": 123,
     "metadata": {},
     "output_type": "execute_result"
    }
   ],
   "source": [
    "df = pd.read_csv(\"./data/train.csv\")\n",
    "df.head()"
   ]
  },
  {
   "cell_type": "code",
   "execution_count": 124,
   "metadata": {},
   "outputs": [
    {
     "data": {
      "text/plain": [
       "(105603, 26)"
      ]
     },
     "execution_count": 124,
     "metadata": {},
     "output_type": "execute_result"
    }
   ],
   "source": [
    "df.shape"
   ]
  },
  {
   "cell_type": "code",
   "execution_count": 122,
   "metadata": {},
   "outputs": [
    {
     "data": {
      "text/plain": [
       "id                          0\n",
       "photo                       0\n",
       "name                        2\n",
       "blurb                       2\n",
       "goal                        0\n",
       "slug                        0\n",
       "disable_communication       0\n",
       "country                     0\n",
       "currency                    0\n",
       "currency_symbol             0\n",
       "currency_trailing_code      0\n",
       "deadline                    0\n",
       "created_at                  0\n",
       "launched_at                 0\n",
       "static_usd_rate             0\n",
       "creator                     0\n",
       "location                  475\n",
       "category                    0\n",
       "profile                     0\n",
       "urls                        0\n",
       "source_url                  0\n",
       "state                       0\n",
       "dtype: int64"
      ]
     },
     "execution_count": 122,
     "metadata": {},
     "output_type": "execute_result"
    }
   ],
   "source": [
    "df.isna().sum()"
   ]
  },
  {
   "cell_type": "code",
   "execution_count": 125,
   "metadata": {},
   "outputs": [],
   "source": [
    "drop_cols = [k for k, v in dict(df.isna().sum()).items() if v > int(df.shape[0] * 0.2)]\n",
    "df.drop(drop_cols, axis=1, inplace=True)"
   ]
  },
  {
   "cell_type": "code",
   "execution_count": 126,
   "metadata": {},
   "outputs": [],
   "source": [
    "df.dropna(inplace=True)"
   ]
  },
  {
   "cell_type": "code",
   "execution_count": 127,
   "metadata": {},
   "outputs": [
    {
     "data": {
      "text/plain": [
       "id                        0\n",
       "photo                     0\n",
       "name                      0\n",
       "blurb                     0\n",
       "goal                      0\n",
       "slug                      0\n",
       "disable_communication     0\n",
       "country                   0\n",
       "currency                  0\n",
       "currency_symbol           0\n",
       "currency_trailing_code    0\n",
       "deadline                  0\n",
       "created_at                0\n",
       "launched_at               0\n",
       "static_usd_rate           0\n",
       "creator                   0\n",
       "location                  0\n",
       "category                  0\n",
       "profile                   0\n",
       "urls                      0\n",
       "source_url                0\n",
       "state                     0\n",
       "dtype: int64"
      ]
     },
     "execution_count": 127,
     "metadata": {},
     "output_type": "execute_result"
    }
   ],
   "source": [
    "df.isna().sum()"
   ]
  },
  {
   "cell_type": "markdown",
   "metadata": {},
   "source": [
    "## Initial Features Exploration"
   ]
  },
  {
   "cell_type": "code",
   "execution_count": 4,
   "metadata": {},
   "outputs": [
    {
     "data": {
      "text/plain": [
       "Index(['id', 'photo', 'name', 'blurb', 'goal', 'slug', 'disable_communication',\n",
       "       'country', 'currency', 'currency_symbol', 'currency_trailing_code',\n",
       "       'deadline', 'created_at', 'launched_at', 'static_usd_rate', 'creator',\n",
       "       'location', 'category', 'profile', 'urls', 'source_url', 'friends',\n",
       "       'is_starred', 'is_backing', 'permissions', 'state'],\n",
       "      dtype='object')"
      ]
     },
     "execution_count": 4,
     "metadata": {},
     "output_type": "execute_result"
    }
   ],
   "source": [
    "df.columns"
   ]
  },
  {
   "cell_type": "code",
   "execution_count": 70,
   "metadata": {},
   "outputs": [
    {
     "name": "stdout",
     "output_type": "stream",
     "text": [
      "<class 'pandas.core.frame.DataFrame'>\n",
      "RangeIndex: 105603 entries, 0 to 105602\n",
      "Data columns (total 26 columns):\n",
      "id                        105603 non-null int64\n",
      "photo                     105603 non-null object\n",
      "name                      105601 non-null object\n",
      "blurb                     105601 non-null object\n",
      "goal                      105603 non-null float64\n",
      "slug                      105603 non-null object\n",
      "disable_communication     105603 non-null bool\n",
      "country                   105603 non-null object\n",
      "currency                  105603 non-null object\n",
      "currency_symbol           105603 non-null object\n",
      "currency_trailing_code    105603 non-null bool\n",
      "deadline                  105603 non-null int64\n",
      "created_at                105603 non-null int64\n",
      "launched_at               105603 non-null int64\n",
      "static_usd_rate           105603 non-null float64\n",
      "creator                   105603 non-null object\n",
      "location                  105128 non-null object\n",
      "category                  105603 non-null object\n",
      "profile                   105603 non-null object\n",
      "urls                      105603 non-null object\n",
      "source_url                105603 non-null object\n",
      "friends                   5 non-null object\n",
      "is_starred                5 non-null object\n",
      "is_backing                5 non-null object\n",
      "permissions               5 non-null object\n",
      "state                     105603 non-null object\n",
      "dtypes: bool(2), float64(2), int64(4), object(18)\n",
      "memory usage: 19.5+ MB\n"
     ]
    }
   ],
   "source": [
    "df.info()"
   ]
  },
  {
   "cell_type": "markdown",
   "metadata": {},
   "source": [
    "### Disable Communication"
   ]
  },
  {
   "cell_type": "code",
   "execution_count": 71,
   "metadata": {},
   "outputs": [
    {
     "data": {
      "text/plain": [
       "array([False])"
      ]
     },
     "execution_count": 71,
     "metadata": {},
     "output_type": "execute_result"
    }
   ],
   "source": [
    "df.disable_communication.unique()"
   ]
  },
  {
   "cell_type": "markdown",
   "metadata": {},
   "source": [
    "### Country"
   ]
  },
  {
   "cell_type": "code",
   "execution_count": 89,
   "metadata": {},
   "outputs": [
    {
     "data": {
      "text/plain": [
       "0         US\n",
       "1         US\n",
       "2         CA\n",
       "3         US\n",
       "4         GB\n",
       "5         AU\n",
       "6         US\n",
       "7         US\n",
       "8         US\n",
       "9         US\n",
       "10        US\n",
       "11        US\n",
       "12        US\n",
       "13        US\n",
       "14        US\n",
       "15        GB\n",
       "16        US\n",
       "17        US\n",
       "18        US\n",
       "19        IE\n",
       "20        US\n",
       "21        US\n",
       "22        US\n",
       "23        US\n",
       "24        US\n",
       "25        US\n",
       "26        US\n",
       "27        US\n",
       "28        US\n",
       "29        US\n",
       "          ..\n",
       "105573    US\n",
       "105574    US\n",
       "105575    US\n",
       "105576    US\n",
       "105577    CA\n",
       "105578    US\n",
       "105579    US\n",
       "105580    US\n",
       "105581    AU\n",
       "105582    US\n",
       "105583    AU\n",
       "105584    US\n",
       "105585    US\n",
       "105586    CA\n",
       "105587    US\n",
       "105588    US\n",
       "105589    US\n",
       "105590    GB\n",
       "105591    US\n",
       "105592    US\n",
       "105593    US\n",
       "105594    US\n",
       "105595    AU\n",
       "105596    US\n",
       "105597    US\n",
       "105598    US\n",
       "105599    US\n",
       "105600    US\n",
       "105601    US\n",
       "105602    US\n",
       "Name: country, Length: 105603, dtype: object"
      ]
     },
     "execution_count": 89,
     "metadata": {},
     "output_type": "execute_result"
    }
   ],
   "source": [
    "df.country"
   ]
  },
  {
   "cell_type": "markdown",
   "metadata": {},
   "source": [
    "### Photo"
   ]
  },
  {
   "cell_type": "code",
   "execution_count": 5,
   "metadata": {},
   "outputs": [
    {
     "data": {
      "text/plain": [
       "'{\"small\":\"https://ksr-ugc.imgix.net/assets/012/384/964/7a20ef8917d7de846e9b6bf66a3b2a66_original.png?crop=faces&w=160&h=90&fit=crop&v=1463758293&auto=format&q=92&s=53b64c027846b947a57e6ea6de25399d\",\"thumb\":\"https://ksr-ugc.imgix.net/assets/012/384/964/7a20ef8917d7de846e9b6bf66a3b2a66_original.png?crop=faces&w=48&h=27&fit=crop&v=1463758293&auto=format&q=92&s=baf0f6dd653277b41c9442a7064425cd\",\"1024x576\":\"https://ksr-ugc.imgix.net/assets/012/384/964/7a20ef8917d7de846e9b6bf66a3b2a66_original.png?crop=faces&w=1024&h=576&fit=crop&v=1463758293&auto=format&q=92&s=b542d17aa0743b5851004772ef27794d\",\"med\":\"https://ksr-ugc.imgix.net/assets/012/384/964/7a20ef8917d7de846e9b6bf66a3b2a66_original.png?crop=faces&w=272&h=153&fit=crop&v=1463758293&auto=format&q=92&s=2fce58c0a98a837e0d68b65d3eedccb8\",\"key\":\"assets/012/384/964/7a20ef8917d7de846e9b6bf66a3b2a66_original.png\",\"1536x864\":\"https://ksr-ugc.imgix.net/assets/012/384/964/7a20ef8917d7de846e9b6bf66a3b2a66_original.png?crop=faces&w=1552&h=873&fit=crop&v=1463758293&auto=format&q=92&s=453e27176d25a3ad49176cb45931c5f9\",\"ed\":\"https://ksr-ugc.imgix.net/assets/012/384/964/7a20ef8917d7de846e9b6bf66a3b2a66_original.png?crop=faces&w=352&h=198&fit=crop&v=1463758293&auto=format&q=92&s=a0c05f0e7aeadd31f61c2fd464edebca\",\"full\":\"https://ksr-ugc.imgix.net/assets/012/384/964/7a20ef8917d7de846e9b6bf66a3b2a66_original.png?crop=faces&w=560&h=315&fit=crop&v=1463758293&auto=format&q=92&s=812674d034ca63fd682e6bc9126a8ca0\",\"little\":\"https://ksr-ugc.imgix.net/assets/012/384/964/7a20ef8917d7de846e9b6bf66a3b2a66_original.png?crop=faces&w=208&h=117&fit=crop&v=1463758293&auto=format&q=92&s=6884990cfa5b84b8a21dbc11acb0551e\"}'"
      ]
     },
     "execution_count": 5,
     "metadata": {},
     "output_type": "execute_result"
    }
   ],
   "source": [
    "df.photo[0]"
   ]
  },
  {
   "cell_type": "markdown",
   "metadata": {},
   "source": [
    "### URLs"
   ]
  },
  {
   "cell_type": "code",
   "execution_count": 22,
   "metadata": {},
   "outputs": [
    {
     "name": "stdout",
     "output_type": "stream",
     "text": [
      "{\"web\":{\"project\":\"https://www.kickstarter.com/projects/200609383/angular-where-modern-art-meets-cards?ref=category_newest\",\"rewards\":\"https://www.kickstarter.com/projects/200609383/angular-where-modern-art-meets-cards/rewards\"}}\n",
      "0 https://www.kickstarter.com/discover/categories/games/playing%20cards?ref=category_modal&sort=magic\n",
      "1 https://www.kickstarter.com/discover/categories/music/pop?ref=category_modal&sort=magic\n",
      "2 https://www.kickstarter.com/discover/categories/food/vegan?ref=category_modal&sort=magic\n",
      "3 https://www.kickstarter.com/discover/categories/art/mixed%20media?ref=category_modal&sort=magic\n",
      "4 https://www.kickstarter.com/discover/categories/publishing/children's%20books?ref=category_modal&sort=magic\n",
      "5 https://www.kickstarter.com/discover/categories/publishing/art%20books?ref=category_modal&sort=magic\n",
      "6 https://www.kickstarter.com/discover/categories/music/pop?ref=category_modal&sort=magic\n",
      "7 https://www.kickstarter.com/discover/categories/games/video%20games?ref=category_modal&sort=magic\n",
      "8 https://www.kickstarter.com/discover/categories/art/sculpture?ref=category_modal&sort=magic\n",
      "9 https://www.kickstarter.com/discover/categories/games/playing%20cards?ref=category_modal&sort=magic\n"
     ]
    }
   ],
   "source": [
    "print(df.urls[0])\n",
    "\n",
    "for i in range(10):\n",
    "    print(f\"{i} {df.source_url[i]}\")"
   ]
  },
  {
   "cell_type": "markdown",
   "metadata": {},
   "source": [
    "### Category"
   ]
  },
  {
   "cell_type": "code",
   "execution_count": 29,
   "metadata": {},
   "outputs": [
    {
     "name": "stdout",
     "output_type": "stream",
     "text": [
      "{'color': 51627, 'name': 'Playing Cards', 'position': 4, 'slug': 'games/playing cards'}\n",
      "\n",
      "{'color': 10878931, 'name': 'Pop', 'position': 14, 'slug': 'music/pop'}\n",
      "\n",
      "{'color': 16725570, 'name': 'Vegan', 'position': 12, 'slug': 'food/vegan'}\n",
      "\n",
      "{'color': 16760235, 'name': 'Mixed Media', 'position': 6, 'slug': 'art/mixed media'}\n",
      "\n",
      "{'color': 14867664, 'name': \"Children's Books\", 'position': 5, 'slug': \"publishing/children's books\"}\n",
      "\n",
      "{'color': 14867664, 'name': 'Art Books', 'position': 3, 'slug': 'publishing/art books'}\n",
      "\n",
      "{'color': 10878931, 'name': 'Pop', 'position': 14, 'slug': 'music/pop'}\n",
      "\n",
      "{'color': 51627, 'name': 'Video Games', 'position': 7, 'slug': 'games/video games'}\n",
      "\n",
      "{'color': 16760235, 'name': 'Sculpture', 'position': 10, 'slug': 'art/sculpture'}\n",
      "\n",
      "{'color': 51627, 'name': 'Playing Cards', 'position': 4, 'slug': 'games/playing cards'}\n",
      "\n",
      "{'color': 1228010, 'name': 'Video', 'position': 4, 'slug': 'journalism/video'}\n",
      "\n",
      "{'color': 16734574, 'name': 'Narrative Film', 'position': 13, 'slug': 'film & video/narrative film'}\n",
      "\n",
      "{'color': 14867664, 'name': 'Fiction', 'position': 7, 'slug': 'publishing/fiction'}\n",
      "\n",
      "{'color': 10878931, 'name': 'Pop', 'position': 14, 'slug': 'music/pop'}\n",
      "\n",
      "{'color': 10878931, 'name': 'Hip-Hop', 'position': 8, 'slug': 'music/hip-hop'}\n",
      "\n",
      "{'color': 14867664, 'name': 'Art Books', 'position': 3, 'slug': 'publishing/art books'}\n",
      "\n",
      "{'color': 16734574, 'name': 'Documentary', 'position': 4, 'slug': 'film & video/documentary'}\n",
      "\n",
      "{'color': 10878931, 'name': 'Jazz', 'position': 10, 'slug': 'music/jazz'}\n",
      "\n",
      "{'color': 14867664, 'name': 'Academic', 'position': 1, 'slug': 'publishing/academic'}\n",
      "\n",
      "{'color': 16725570, 'name': 'Drinks', 'position': 4, 'slug': 'food/drinks'}\n",
      "\n"
     ]
    }
   ],
   "source": [
    "from json import loads\n",
    "\n",
    "for row in df.head(20).category:\n",
    "    row_dict = loads(row)\n",
    "    del row_dict['urls'], row_dict['id'], row_dict['parent_id']\n",
    "    print(row_dict)\n",
    "    print()"
   ]
  },
  {
   "cell_type": "code",
   "execution_count": 92,
   "metadata": {},
   "outputs": [
    {
     "data": {
      "text/plain": [
       "126"
      ]
     },
     "execution_count": 92,
     "metadata": {},
     "output_type": "execute_result"
    }
   ],
   "source": [
    "unique_categories = set(df.category.map(lambda row: loads(row)['name']))\n",
    "len(unique_categories)"
   ]
  },
  {
   "cell_type": "markdown",
   "metadata": {},
   "source": [
    "### Profile"
   ]
  },
  {
   "cell_type": "code",
   "execution_count": 21,
   "metadata": {},
   "outputs": [
    {
     "data": {
      "text/plain": [
       "'{\"background_image_opacity\":0.8,\"should_show_feature_image_section\":true,\"link_text_color\":null,\"state_changed_at\":1455845363,\"blurb\":null,\"background_color\":null,\"project_id\":2382138,\"name\":null,\"feature_image_attributes\":{\"image_urls\":{\"default\":\"https://ksr-ugc.imgix.net/assets/012/384/964/7a20ef8917d7de846e9b6bf66a3b2a66_original.png?crop=faces&w=1552&h=873&fit=crop&v=1463758293&auto=format&q=92&s=453e27176d25a3ad49176cb45931c5f9\",\"baseball_card\":\"https://ksr-ugc.imgix.net/assets/012/384/964/7a20ef8917d7de846e9b6bf66a3b2a66_original.png?crop=faces&w=560&h=315&fit=crop&v=1463758293&auto=format&q=92&s=812674d034ca63fd682e6bc9126a8ca0\"}},\"link_url\":null,\"show_feature_image\":false,\"id\":2382138,\"state\":\"inactive\",\"text_color\":null,\"link_text\":null,\"link_background_color\":null}'"
      ]
     },
     "execution_count": 21,
     "metadata": {},
     "output_type": "execute_result"
    }
   ],
   "source": [
    "df.profile[0]"
   ]
  },
  {
   "cell_type": "markdown",
   "metadata": {},
   "source": [
    "### Location"
   ]
  },
  {
   "cell_type": "code",
   "execution_count": 11,
   "metadata": {},
   "outputs": [
    {
     "data": {
      "text/plain": [
       "'{\"country\":\"JP\",\"urls\":{\"web\":{\"discover\":\"https://www.kickstarter.com/discover/places/tokyo-jp\",\"location\":\"https://www.kickstarter.com/locations/tokyo-jp\"},\"api\":{\"nearby_projects\":\"https://api.kickstarter.com/v1/discover?signature=1500237668.53a7fe365bcce23a8443a8599ea05255c4b3b6a8&woe_id=1118370\"}},\"name\":\"Tokyo\",\"displayable_name\":\"Tokyo, Japan\",\"short_name\":\"Tokyo, Japan\",\"id\":1118370,\"state\":\"Tokyo Prefecture\",\"type\":\"Town\",\"is_root\":false,\"slug\":\"tokyo-jp\"}'"
      ]
     },
     "execution_count": 11,
     "metadata": {},
     "output_type": "execute_result"
    }
   ],
   "source": [
    "df.location[1]"
   ]
  },
  {
   "cell_type": "code",
   "execution_count": 131,
   "metadata": {},
   "outputs": [
    {
     "data": {
      "text/plain": [
       "11048"
      ]
     },
     "execution_count": 131,
     "metadata": {},
     "output_type": "execute_result"
    }
   ],
   "source": [
    "locations = set(df.location.map(lambda x: loads(x)['slug']))\n",
    "len(locations)"
   ]
  },
  {
   "cell_type": "markdown",
   "metadata": {},
   "source": [
    "### Creator"
   ]
  },
  {
   "cell_type": "code",
   "execution_count": 102,
   "metadata": {},
   "outputs": [
    {
     "data": {
      "text/plain": [
       "{'urls': {'web': {'user': 'https://www.kickstarter.com/profile/200609383'},\n",
       "  'api': {'user': 'https://api.kickstarter.com/v1/users/200609383?signature=1500253832.c63c34f5e67c402cc42cc6faaf61a6c5f30a45e9'}},\n",
       " 'is_registered': True,\n",
       " 'name': 'Yujian Tang',\n",
       " 'id': 200609383,\n",
       " 'avatar': {'small': 'https://ksr-ugc.imgix.net/assets/009/870/528/972a3feb4563f9052ddbb355f8b799d4_original.jpg?w=160&h=160&fit=crop&v=1461640079&auto=format&q=92&s=f7d353b2ae34886e7123009392460628',\n",
       "  'thumb': 'https://ksr-ugc.imgix.net/assets/009/870/528/972a3feb4563f9052ddbb355f8b799d4_original.jpg?w=40&h=40&fit=crop&v=1461640079&auto=format&q=92&s=6b124ebb653e8bc5655718062ee3cd0f',\n",
       "  'medium': 'https://ksr-ugc.imgix.net/assets/009/870/528/972a3feb4563f9052ddbb355f8b799d4_original.jpg?w=160&h=160&fit=crop&v=1461640079&auto=format&q=92&s=f7d353b2ae34886e7123009392460628'}}"
      ]
     },
     "execution_count": 102,
     "metadata": {},
     "output_type": "execute_result"
    }
   ],
   "source": [
    "loads(df.creator[0])"
   ]
  },
  {
   "cell_type": "code",
   "execution_count": 103,
   "metadata": {},
   "outputs": [
    {
     "data": {
      "text/plain": [
       "92566"
      ]
     },
     "execution_count": 103,
     "metadata": {},
     "output_type": "execute_result"
    }
   ],
   "source": [
    "creator_names = set(df.creator.map(lambda x: loads(x)['name']))\n",
    "len(creator_names)"
   ]
  },
  {
   "cell_type": "code",
   "execution_count": null,
   "metadata": {
    "collapsed": true
   },
   "outputs": [],
   "source": []
  }
 ],
 "metadata": {
  "kernelspec": {
   "display_name": "Python [conda env:crypto_time_series]",
   "language": "python",
   "name": "conda-env-crypto_time_series-py"
  },
  "language_info": {
   "codemirror_mode": {
    "name": "ipython",
    "version": 3
   },
   "file_extension": ".py",
   "mimetype": "text/x-python",
   "name": "python",
   "nbconvert_exporter": "python",
   "pygments_lexer": "ipython3",
   "version": "3.6.7"
  }
 },
 "nbformat": 4,
 "nbformat_minor": 2
}
