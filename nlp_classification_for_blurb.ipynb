{
 "cells": [
  {
   "cell_type": "code",
   "execution_count": 1,
   "metadata": {
    "collapsed": true
   },
   "outputs": [],
   "source": [
    "import gc\n",
    "import numpy as np\n",
    "import pandas as pd\n",
    "import matplotlib.pyplot as plt\n",
    "import seaborn as sns\n",
    "%matplotlib inline\n",
    "\n",
    "import warnings\n",
    "warnings.filterwarnings(\"ignore\")\n",
    "\n",
    "plt.style.use(\"Solarize_Light2\")"
   ]
  },
  {
   "cell_type": "markdown",
   "metadata": {},
   "source": [
    "## Loading Data"
   ]
  },
  {
   "cell_type": "code",
   "execution_count": 2,
   "metadata": {},
   "outputs": [
    {
     "data": {
      "text/html": [
       "<div>\n",
       "<style scoped>\n",
       "    .dataframe tbody tr th:only-of-type {\n",
       "        vertical-align: middle;\n",
       "    }\n",
       "\n",
       "    .dataframe tbody tr th {\n",
       "        vertical-align: top;\n",
       "    }\n",
       "\n",
       "    .dataframe thead th {\n",
       "        text-align: right;\n",
       "    }\n",
       "</style>\n",
       "<table border=\"1\" class=\"dataframe\">\n",
       "  <thead>\n",
       "    <tr style=\"text-align: right;\">\n",
       "      <th></th>\n",
       "      <th>id</th>\n",
       "      <th>photo</th>\n",
       "      <th>name</th>\n",
       "      <th>blurb</th>\n",
       "      <th>goal</th>\n",
       "      <th>slug</th>\n",
       "      <th>disable_communication</th>\n",
       "      <th>country</th>\n",
       "      <th>currency</th>\n",
       "      <th>currency_symbol</th>\n",
       "      <th>...</th>\n",
       "      <th>location</th>\n",
       "      <th>category</th>\n",
       "      <th>profile</th>\n",
       "      <th>urls</th>\n",
       "      <th>source_url</th>\n",
       "      <th>friends</th>\n",
       "      <th>is_starred</th>\n",
       "      <th>is_backing</th>\n",
       "      <th>permissions</th>\n",
       "      <th>state</th>\n",
       "    </tr>\n",
       "  </thead>\n",
       "  <tbody>\n",
       "    <tr>\n",
       "      <th>0</th>\n",
       "      <td>663816109</td>\n",
       "      <td>{\"small\":\"https://ksr-ugc.imgix.net/assets/012...</td>\n",
       "      <td>Angular - Where Modern Art meets Cards</td>\n",
       "      <td>Angular is a minimalist card design for simpli...</td>\n",
       "      <td>17380.0</td>\n",
       "      <td>angular-where-modern-art-meets-cards</td>\n",
       "      <td>False</td>\n",
       "      <td>US</td>\n",
       "      <td>USD</td>\n",
       "      <td>$</td>\n",
       "      <td>...</td>\n",
       "      <td>{\"country\":\"US\",\"urls\":{\"web\":{\"discover\":\"htt...</td>\n",
       "      <td>{\"urls\":{\"web\":{\"discover\":\"http://www.kicksta...</td>\n",
       "      <td>{\"background_image_opacity\":0.8,\"should_show_f...</td>\n",
       "      <td>{\"web\":{\"project\":\"https://www.kickstarter.com...</td>\n",
       "      <td>https://www.kickstarter.com/discover/categorie...</td>\n",
       "      <td>NaN</td>\n",
       "      <td>NaN</td>\n",
       "      <td>NaN</td>\n",
       "      <td>NaN</td>\n",
       "      <td>failed</td>\n",
       "    </tr>\n",
       "    <tr>\n",
       "      <th>1</th>\n",
       "      <td>1462931821</td>\n",
       "      <td>{\"small\":\"https://ksr-ugc.imgix.net/assets/014...</td>\n",
       "      <td>Ladybeard is KAWAII-CORE</td>\n",
       "      <td>Original songs and music videos to jump start ...</td>\n",
       "      <td>24000.0</td>\n",
       "      <td>ladybeard-is-kawaii-core</td>\n",
       "      <td>False</td>\n",
       "      <td>US</td>\n",
       "      <td>USD</td>\n",
       "      <td>$</td>\n",
       "      <td>...</td>\n",
       "      <td>{\"country\":\"JP\",\"urls\":{\"web\":{\"discover\":\"htt...</td>\n",
       "      <td>{\"urls\":{\"web\":{\"discover\":\"http://www.kicksta...</td>\n",
       "      <td>{\"background_image_opacity\":0.8,\"should_show_f...</td>\n",
       "      <td>{\"web\":{\"project\":\"https://www.kickstarter.com...</td>\n",
       "      <td>https://www.kickstarter.com/discover/categorie...</td>\n",
       "      <td>NaN</td>\n",
       "      <td>NaN</td>\n",
       "      <td>NaN</td>\n",
       "      <td>NaN</td>\n",
       "      <td>failed</td>\n",
       "    </tr>\n",
       "    <tr>\n",
       "      <th>2</th>\n",
       "      <td>1724358498</td>\n",
       "      <td>{\"small\":\"https://ksr-ugc.imgix.net/assets/011...</td>\n",
       "      <td>Vegan Cafe Delivery Service in Vancouver BC</td>\n",
       "      <td>Our project is to launch a vegan lunch deliver...</td>\n",
       "      <td>40000.0</td>\n",
       "      <td>vegancafeca</td>\n",
       "      <td>False</td>\n",
       "      <td>CA</td>\n",
       "      <td>CAD</td>\n",
       "      <td>$</td>\n",
       "      <td>...</td>\n",
       "      <td>{\"country\":\"CA\",\"urls\":{\"web\":{\"discover\":\"htt...</td>\n",
       "      <td>{\"urls\":{\"web\":{\"discover\":\"http://www.kicksta...</td>\n",
       "      <td>{\"background_image_opacity\":0.8,\"should_show_f...</td>\n",
       "      <td>{\"web\":{\"project\":\"https://www.kickstarter.com...</td>\n",
       "      <td>https://www.kickstarter.com/discover/categorie...</td>\n",
       "      <td>NaN</td>\n",
       "      <td>NaN</td>\n",
       "      <td>NaN</td>\n",
       "      <td>NaN</td>\n",
       "      <td>failed</td>\n",
       "    </tr>\n",
       "    <tr>\n",
       "      <th>3</th>\n",
       "      <td>314918941</td>\n",
       "      <td>{\"small\":\"https://ksr-ugc.imgix.net/assets/011...</td>\n",
       "      <td>Photoetched Rail Yard Exposition</td>\n",
       "      <td>I have developed a process of my own which tra...</td>\n",
       "      <td>1000.0</td>\n",
       "      <td>photoetched-rail-yard-exposition</td>\n",
       "      <td>False</td>\n",
       "      <td>US</td>\n",
       "      <td>USD</td>\n",
       "      <td>$</td>\n",
       "      <td>...</td>\n",
       "      <td>{\"country\":\"US\",\"urls\":{\"web\":{\"discover\":\"htt...</td>\n",
       "      <td>{\"urls\":{\"web\":{\"discover\":\"http://www.kicksta...</td>\n",
       "      <td>{\"background_image_opacity\":0.8,\"should_show_f...</td>\n",
       "      <td>{\"web\":{\"project\":\"https://www.kickstarter.com...</td>\n",
       "      <td>https://www.kickstarter.com/discover/categorie...</td>\n",
       "      <td>NaN</td>\n",
       "      <td>NaN</td>\n",
       "      <td>NaN</td>\n",
       "      <td>NaN</td>\n",
       "      <td>successful</td>\n",
       "    </tr>\n",
       "    <tr>\n",
       "      <th>4</th>\n",
       "      <td>1766165140</td>\n",
       "      <td>{\"small\":\"https://ksr-ugc.imgix.net/assets/011...</td>\n",
       "      <td>Cinnamon Fletcher needs to be brought to life!</td>\n",
       "      <td>Need to pay an illustrator to bring my childre...</td>\n",
       "      <td>700.0</td>\n",
       "      <td>cinnamon-fletcher-needs-to-be-brought-to-life</td>\n",
       "      <td>False</td>\n",
       "      <td>GB</td>\n",
       "      <td>GBP</td>\n",
       "      <td>Â£</td>\n",
       "      <td>...</td>\n",
       "      <td>{\"country\":\"GB\",\"urls\":{\"web\":{\"discover\":\"htt...</td>\n",
       "      <td>{\"urls\":{\"web\":{\"discover\":\"http://www.kicksta...</td>\n",
       "      <td>{\"background_image_opacity\":0.8,\"should_show_f...</td>\n",
       "      <td>{\"web\":{\"project\":\"https://www.kickstarter.com...</td>\n",
       "      <td>https://www.kickstarter.com/discover/categorie...</td>\n",
       "      <td>NaN</td>\n",
       "      <td>NaN</td>\n",
       "      <td>NaN</td>\n",
       "      <td>NaN</td>\n",
       "      <td>failed</td>\n",
       "    </tr>\n",
       "  </tbody>\n",
       "</table>\n",
       "<p>5 rows × 26 columns</p>\n",
       "</div>"
      ],
      "text/plain": [
       "           id                                              photo  \\\n",
       "0   663816109  {\"small\":\"https://ksr-ugc.imgix.net/assets/012...   \n",
       "1  1462931821  {\"small\":\"https://ksr-ugc.imgix.net/assets/014...   \n",
       "2  1724358498  {\"small\":\"https://ksr-ugc.imgix.net/assets/011...   \n",
       "3   314918941  {\"small\":\"https://ksr-ugc.imgix.net/assets/011...   \n",
       "4  1766165140  {\"small\":\"https://ksr-ugc.imgix.net/assets/011...   \n",
       "\n",
       "                                             name  \\\n",
       "0          Angular - Where Modern Art meets Cards   \n",
       "1                        Ladybeard is KAWAII-CORE   \n",
       "2     Vegan Cafe Delivery Service in Vancouver BC   \n",
       "3                Photoetched Rail Yard Exposition   \n",
       "4  Cinnamon Fletcher needs to be brought to life!   \n",
       "\n",
       "                                               blurb     goal  \\\n",
       "0  Angular is a minimalist card design for simpli...  17380.0   \n",
       "1  Original songs and music videos to jump start ...  24000.0   \n",
       "2  Our project is to launch a vegan lunch deliver...  40000.0   \n",
       "3  I have developed a process of my own which tra...   1000.0   \n",
       "4  Need to pay an illustrator to bring my childre...    700.0   \n",
       "\n",
       "                                            slug  disable_communication  \\\n",
       "0           angular-where-modern-art-meets-cards                  False   \n",
       "1                       ladybeard-is-kawaii-core                  False   \n",
       "2                                    vegancafeca                  False   \n",
       "3               photoetched-rail-yard-exposition                  False   \n",
       "4  cinnamon-fletcher-needs-to-be-brought-to-life                  False   \n",
       "\n",
       "  country currency currency_symbol     ...      \\\n",
       "0      US      USD               $     ...       \n",
       "1      US      USD               $     ...       \n",
       "2      CA      CAD               $     ...       \n",
       "3      US      USD               $     ...       \n",
       "4      GB      GBP              Â£     ...       \n",
       "\n",
       "                                            location  \\\n",
       "0  {\"country\":\"US\",\"urls\":{\"web\":{\"discover\":\"htt...   \n",
       "1  {\"country\":\"JP\",\"urls\":{\"web\":{\"discover\":\"htt...   \n",
       "2  {\"country\":\"CA\",\"urls\":{\"web\":{\"discover\":\"htt...   \n",
       "3  {\"country\":\"US\",\"urls\":{\"web\":{\"discover\":\"htt...   \n",
       "4  {\"country\":\"GB\",\"urls\":{\"web\":{\"discover\":\"htt...   \n",
       "\n",
       "                                            category  \\\n",
       "0  {\"urls\":{\"web\":{\"discover\":\"http://www.kicksta...   \n",
       "1  {\"urls\":{\"web\":{\"discover\":\"http://www.kicksta...   \n",
       "2  {\"urls\":{\"web\":{\"discover\":\"http://www.kicksta...   \n",
       "3  {\"urls\":{\"web\":{\"discover\":\"http://www.kicksta...   \n",
       "4  {\"urls\":{\"web\":{\"discover\":\"http://www.kicksta...   \n",
       "\n",
       "                                             profile  \\\n",
       "0  {\"background_image_opacity\":0.8,\"should_show_f...   \n",
       "1  {\"background_image_opacity\":0.8,\"should_show_f...   \n",
       "2  {\"background_image_opacity\":0.8,\"should_show_f...   \n",
       "3  {\"background_image_opacity\":0.8,\"should_show_f...   \n",
       "4  {\"background_image_opacity\":0.8,\"should_show_f...   \n",
       "\n",
       "                                                urls  \\\n",
       "0  {\"web\":{\"project\":\"https://www.kickstarter.com...   \n",
       "1  {\"web\":{\"project\":\"https://www.kickstarter.com...   \n",
       "2  {\"web\":{\"project\":\"https://www.kickstarter.com...   \n",
       "3  {\"web\":{\"project\":\"https://www.kickstarter.com...   \n",
       "4  {\"web\":{\"project\":\"https://www.kickstarter.com...   \n",
       "\n",
       "                                          source_url friends is_starred  \\\n",
       "0  https://www.kickstarter.com/discover/categorie...     NaN        NaN   \n",
       "1  https://www.kickstarter.com/discover/categorie...     NaN        NaN   \n",
       "2  https://www.kickstarter.com/discover/categorie...     NaN        NaN   \n",
       "3  https://www.kickstarter.com/discover/categorie...     NaN        NaN   \n",
       "4  https://www.kickstarter.com/discover/categorie...     NaN        NaN   \n",
       "\n",
       "  is_backing permissions       state  \n",
       "0        NaN         NaN      failed  \n",
       "1        NaN         NaN      failed  \n",
       "2        NaN         NaN      failed  \n",
       "3        NaN         NaN  successful  \n",
       "4        NaN         NaN      failed  \n",
       "\n",
       "[5 rows x 26 columns]"
      ]
     },
     "execution_count": 2,
     "metadata": {},
     "output_type": "execute_result"
    }
   ],
   "source": [
    "df = pd.read_csv(\"./data/train.csv\")\n",
    "df.head()"
   ]
  },
  {
   "cell_type": "markdown",
   "metadata": {},
   "source": [
    "## Features Engineering"
   ]
  },
  {
   "cell_type": "markdown",
   "metadata": {},
   "source": [
    "### Cleaning up Dataframe"
   ]
  },
  {
   "cell_type": "code",
   "execution_count": 3,
   "metadata": {},
   "outputs": [
    {
     "name": "stdout",
     "output_type": "stream",
     "text": [
      "<class 'pandas.core.frame.DataFrame'>\n",
      "RangeIndex: 105603 entries, 0 to 105602\n",
      "Data columns (total 26 columns):\n",
      "id                        105603 non-null int64\n",
      "photo                     105603 non-null object\n",
      "name                      105601 non-null object\n",
      "blurb                     105601 non-null object\n",
      "goal                      105603 non-null float64\n",
      "slug                      105603 non-null object\n",
      "disable_communication     105603 non-null bool\n",
      "country                   105603 non-null object\n",
      "currency                  105603 non-null object\n",
      "currency_symbol           105603 non-null object\n",
      "currency_trailing_code    105603 non-null bool\n",
      "deadline                  105603 non-null int64\n",
      "created_at                105603 non-null int64\n",
      "launched_at               105603 non-null int64\n",
      "static_usd_rate           105603 non-null float64\n",
      "creator                   105603 non-null object\n",
      "location                  105128 non-null object\n",
      "category                  105603 non-null object\n",
      "profile                   105603 non-null object\n",
      "urls                      105603 non-null object\n",
      "source_url                105603 non-null object\n",
      "friends                   5 non-null object\n",
      "is_starred                5 non-null object\n",
      "is_backing                5 non-null object\n",
      "permissions               5 non-null object\n",
      "state                     105603 non-null object\n",
      "dtypes: bool(2), float64(2), int64(4), object(18)\n",
      "memory usage: 19.5+ MB\n"
     ]
    }
   ],
   "source": [
    "df.info()"
   ]
  },
  {
   "cell_type": "code",
   "execution_count": 4,
   "metadata": {},
   "outputs": [
    {
     "data": {
      "text/plain": [
       "id                             0\n",
       "photo                          0\n",
       "name                           2\n",
       "blurb                          2\n",
       "goal                           0\n",
       "slug                           0\n",
       "disable_communication          0\n",
       "country                        0\n",
       "currency                       0\n",
       "currency_symbol                0\n",
       "currency_trailing_code         0\n",
       "deadline                       0\n",
       "created_at                     0\n",
       "launched_at                    0\n",
       "static_usd_rate                0\n",
       "creator                        0\n",
       "location                     475\n",
       "category                       0\n",
       "profile                        0\n",
       "urls                           0\n",
       "source_url                     0\n",
       "friends                   105598\n",
       "is_starred                105598\n",
       "is_backing                105598\n",
       "permissions               105598\n",
       "state                          0\n",
       "dtype: int64"
      ]
     },
     "execution_count": 4,
     "metadata": {},
     "output_type": "execute_result"
    }
   ],
   "source": [
    "df.isna().sum()"
   ]
  },
  {
   "cell_type": "code",
   "execution_count": 5,
   "metadata": {},
   "outputs": [
    {
     "data": {
      "text/plain": [
       "id                        0\n",
       "photo                     0\n",
       "name                      0\n",
       "blurb                     0\n",
       "goal                      0\n",
       "slug                      0\n",
       "disable_communication     0\n",
       "country                   0\n",
       "currency                  0\n",
       "currency_symbol           0\n",
       "currency_trailing_code    0\n",
       "deadline                  0\n",
       "created_at                0\n",
       "launched_at               0\n",
       "static_usd_rate           0\n",
       "creator                   0\n",
       "location                  0\n",
       "category                  0\n",
       "profile                   0\n",
       "urls                      0\n",
       "source_url                0\n",
       "state                     0\n",
       "dtype: int64"
      ]
     },
     "execution_count": 5,
     "metadata": {},
     "output_type": "execute_result"
    }
   ],
   "source": [
    "drop_cols = [k for k, v in dict(df.isna().sum()).items() if v > int(df.shape[0] * 0.2)]\n",
    "df.drop(drop_cols, axis=1, inplace=True)\n",
    "df.dropna(inplace=True)\n",
    "df.isna().sum()"
   ]
  },
  {
   "cell_type": "code",
   "execution_count": 6,
   "metadata": {},
   "outputs": [
    {
     "data": {
      "text/html": [
       "<div>\n",
       "<style scoped>\n",
       "    .dataframe tbody tr th:only-of-type {\n",
       "        vertical-align: middle;\n",
       "    }\n",
       "\n",
       "    .dataframe tbody tr th {\n",
       "        vertical-align: top;\n",
       "    }\n",
       "\n",
       "    .dataframe thead th {\n",
       "        text-align: right;\n",
       "    }\n",
       "</style>\n",
       "<table border=\"1\" class=\"dataframe\">\n",
       "  <thead>\n",
       "    <tr style=\"text-align: right;\">\n",
       "      <th></th>\n",
       "      <th>blurb</th>\n",
       "      <th>country</th>\n",
       "      <th>state</th>\n",
       "    </tr>\n",
       "  </thead>\n",
       "  <tbody>\n",
       "    <tr>\n",
       "      <th>0</th>\n",
       "      <td>Angular is a minimalist card design for simpli...</td>\n",
       "      <td>US</td>\n",
       "      <td>failed</td>\n",
       "    </tr>\n",
       "    <tr>\n",
       "      <th>1</th>\n",
       "      <td>Original songs and music videos to jump start ...</td>\n",
       "      <td>US</td>\n",
       "      <td>failed</td>\n",
       "    </tr>\n",
       "    <tr>\n",
       "      <th>2</th>\n",
       "      <td>Our project is to launch a vegan lunch deliver...</td>\n",
       "      <td>CA</td>\n",
       "      <td>failed</td>\n",
       "    </tr>\n",
       "    <tr>\n",
       "      <th>3</th>\n",
       "      <td>I have developed a process of my own which tra...</td>\n",
       "      <td>US</td>\n",
       "      <td>successful</td>\n",
       "    </tr>\n",
       "    <tr>\n",
       "      <th>4</th>\n",
       "      <td>Need to pay an illustrator to bring my childre...</td>\n",
       "      <td>GB</td>\n",
       "      <td>failed</td>\n",
       "    </tr>\n",
       "    <tr>\n",
       "      <th>5</th>\n",
       "      <td>Disassembling is a colouring book full of diss...</td>\n",
       "      <td>AU</td>\n",
       "      <td>successful</td>\n",
       "    </tr>\n",
       "    <tr>\n",
       "      <th>6</th>\n",
       "      <td>All-Night Yahtzee is planning on releasing our...</td>\n",
       "      <td>US</td>\n",
       "      <td>successful</td>\n",
       "    </tr>\n",
       "    <tr>\n",
       "      <th>7</th>\n",
       "      <td>Super Daryl Deluxe is a 2D slapstick action-RP...</td>\n",
       "      <td>US</td>\n",
       "      <td>successful</td>\n",
       "    </tr>\n",
       "    <tr>\n",
       "      <th>8</th>\n",
       "      <td>Shoggoth Shetani- Blind-box one of a kind coll...</td>\n",
       "      <td>US</td>\n",
       "      <td>successful</td>\n",
       "    </tr>\n",
       "    <tr>\n",
       "      <th>9</th>\n",
       "      <td>A practice tool to help you be more creative a...</td>\n",
       "      <td>US</td>\n",
       "      <td>successful</td>\n",
       "    </tr>\n",
       "  </tbody>\n",
       "</table>\n",
       "</div>"
      ],
      "text/plain": [
       "                                               blurb country       state\n",
       "0  Angular is a minimalist card design for simpli...      US      failed\n",
       "1  Original songs and music videos to jump start ...      US      failed\n",
       "2  Our project is to launch a vegan lunch deliver...      CA      failed\n",
       "3  I have developed a process of my own which tra...      US  successful\n",
       "4  Need to pay an illustrator to bring my childre...      GB      failed\n",
       "5  Disassembling is a colouring book full of diss...      AU  successful\n",
       "6  All-Night Yahtzee is planning on releasing our...      US  successful\n",
       "7  Super Daryl Deluxe is a 2D slapstick action-RP...      US  successful\n",
       "8  Shoggoth Shetani- Blind-box one of a kind coll...      US  successful\n",
       "9  A practice tool to help you be more creative a...      US  successful"
      ]
     },
     "execution_count": 6,
     "metadata": {},
     "output_type": "execute_result"
    }
   ],
   "source": [
    "df_text = df.loc[:, [\"blurb\", \"country\", \"state\"]]\n",
    "df_text.head(10)"
   ]
  },
  {
   "cell_type": "code",
   "execution_count": 7,
   "metadata": {},
   "outputs": [
    {
     "data": {
      "text/html": [
       "<div>\n",
       "<style scoped>\n",
       "    .dataframe tbody tr th:only-of-type {\n",
       "        vertical-align: middle;\n",
       "    }\n",
       "\n",
       "    .dataframe tbody tr th {\n",
       "        vertical-align: top;\n",
       "    }\n",
       "\n",
       "    .dataframe thead th {\n",
       "        text-align: right;\n",
       "    }\n",
       "</style>\n",
       "<table border=\"1\" class=\"dataframe\">\n",
       "  <thead>\n",
       "    <tr style=\"text-align: right;\">\n",
       "      <th></th>\n",
       "      <th>blurb</th>\n",
       "      <th>country</th>\n",
       "      <th>state</th>\n",
       "    </tr>\n",
       "  </thead>\n",
       "  <tbody>\n",
       "    <tr>\n",
       "      <th>0</th>\n",
       "      <td>Angular is a minimalist card design for simpli...</td>\n",
       "      <td>US</td>\n",
       "      <td>0</td>\n",
       "    </tr>\n",
       "    <tr>\n",
       "      <th>1</th>\n",
       "      <td>Original songs and music videos to jump start ...</td>\n",
       "      <td>US</td>\n",
       "      <td>0</td>\n",
       "    </tr>\n",
       "    <tr>\n",
       "      <th>2</th>\n",
       "      <td>Our project is to launch a vegan lunch deliver...</td>\n",
       "      <td>CA</td>\n",
       "      <td>0</td>\n",
       "    </tr>\n",
       "    <tr>\n",
       "      <th>3</th>\n",
       "      <td>I have developed a process of my own which tra...</td>\n",
       "      <td>US</td>\n",
       "      <td>1</td>\n",
       "    </tr>\n",
       "    <tr>\n",
       "      <th>4</th>\n",
       "      <td>Need to pay an illustrator to bring my childre...</td>\n",
       "      <td>GB</td>\n",
       "      <td>0</td>\n",
       "    </tr>\n",
       "    <tr>\n",
       "      <th>5</th>\n",
       "      <td>Disassembling is a colouring book full of diss...</td>\n",
       "      <td>AU</td>\n",
       "      <td>1</td>\n",
       "    </tr>\n",
       "    <tr>\n",
       "      <th>6</th>\n",
       "      <td>All-Night Yahtzee is planning on releasing our...</td>\n",
       "      <td>US</td>\n",
       "      <td>1</td>\n",
       "    </tr>\n",
       "    <tr>\n",
       "      <th>7</th>\n",
       "      <td>Super Daryl Deluxe is a 2D slapstick action-RP...</td>\n",
       "      <td>US</td>\n",
       "      <td>1</td>\n",
       "    </tr>\n",
       "    <tr>\n",
       "      <th>8</th>\n",
       "      <td>Shoggoth Shetani- Blind-box one of a kind coll...</td>\n",
       "      <td>US</td>\n",
       "      <td>1</td>\n",
       "    </tr>\n",
       "    <tr>\n",
       "      <th>9</th>\n",
       "      <td>A practice tool to help you be more creative a...</td>\n",
       "      <td>US</td>\n",
       "      <td>1</td>\n",
       "    </tr>\n",
       "  </tbody>\n",
       "</table>\n",
       "</div>"
      ],
      "text/plain": [
       "                                               blurb country  state\n",
       "0  Angular is a minimalist card design for simpli...      US      0\n",
       "1  Original songs and music videos to jump start ...      US      0\n",
       "2  Our project is to launch a vegan lunch deliver...      CA      0\n",
       "3  I have developed a process of my own which tra...      US      1\n",
       "4  Need to pay an illustrator to bring my childre...      GB      0\n",
       "5  Disassembling is a colouring book full of diss...      AU      1\n",
       "6  All-Night Yahtzee is planning on releasing our...      US      1\n",
       "7  Super Daryl Deluxe is a 2D slapstick action-RP...      US      1\n",
       "8  Shoggoth Shetani- Blind-box one of a kind coll...      US      1\n",
       "9  A practice tool to help you be more creative a...      US      1"
      ]
     },
     "execution_count": 7,
     "metadata": {},
     "output_type": "execute_result"
    }
   ],
   "source": [
    "state_encodings = {v:k for k, v in enumerate(df_text.state.unique())}\n",
    "\n",
    "def encode_state(x):\n",
    "    return state_encodings[x]\n",
    "\n",
    "df_text.loc[:, \"state\"] = df_text.state.apply(encode_state)\n",
    "df_text.head(10)"
   ]
  },
  {
   "cell_type": "code",
   "execution_count": 11,
   "metadata": {},
   "outputs": [
    {
     "data": {
      "text/html": [
       "<div>\n",
       "<style scoped>\n",
       "    .dataframe tbody tr th:only-of-type {\n",
       "        vertical-align: middle;\n",
       "    }\n",
       "\n",
       "    .dataframe tbody tr th {\n",
       "        vertical-align: top;\n",
       "    }\n",
       "\n",
       "    .dataframe thead th {\n",
       "        text-align: right;\n",
       "    }\n",
       "</style>\n",
       "<table border=\"1\" class=\"dataframe\">\n",
       "  <thead>\n",
       "    <tr style=\"text-align: right;\">\n",
       "      <th></th>\n",
       "      <th>blurb</th>\n",
       "      <th>country</th>\n",
       "      <th>state</th>\n",
       "    </tr>\n",
       "  </thead>\n",
       "  <tbody>\n",
       "    <tr>\n",
       "      <th>0</th>\n",
       "      <td>Angular is a minimalist card design for simpli...</td>\n",
       "      <td>US</td>\n",
       "      <td>0</td>\n",
       "    </tr>\n",
       "    <tr>\n",
       "      <th>1</th>\n",
       "      <td>Original songs and music videos to jump start ...</td>\n",
       "      <td>US</td>\n",
       "      <td>0</td>\n",
       "    </tr>\n",
       "    <tr>\n",
       "      <th>2</th>\n",
       "      <td>Our project is to launch a vegan lunch deliver...</td>\n",
       "      <td>CA</td>\n",
       "      <td>0</td>\n",
       "    </tr>\n",
       "    <tr>\n",
       "      <th>3</th>\n",
       "      <td>I have developed a process of my own which tra...</td>\n",
       "      <td>US</td>\n",
       "      <td>1</td>\n",
       "    </tr>\n",
       "    <tr>\n",
       "      <th>4</th>\n",
       "      <td>Need to pay an illustrator to bring my childre...</td>\n",
       "      <td>GB</td>\n",
       "      <td>0</td>\n",
       "    </tr>\n",
       "  </tbody>\n",
       "</table>\n",
       "</div>"
      ],
      "text/plain": [
       "                                               blurb country  state\n",
       "0  Angular is a minimalist card design for simpli...      US      0\n",
       "1  Original songs and music videos to jump start ...      US      0\n",
       "2  Our project is to launch a vegan lunch deliver...      CA      0\n",
       "3  I have developed a process of my own which tra...      US      1\n",
       "4  Need to pay an illustrator to bring my childre...      GB      0"
      ]
     },
     "execution_count": 11,
     "metadata": {},
     "output_type": "execute_result"
    }
   ],
   "source": [
    "df_text.head()"
   ]
  },
  {
   "cell_type": "code",
   "execution_count": 12,
   "metadata": {},
   "outputs": [
    {
     "data": {
      "text/plain": [
       "<Figure size 720x720 with 0 Axes>"
      ]
     },
     "metadata": {},
     "output_type": "display_data"
    },
    {
     "data": {
      "image/png": "[encoded data removed]",
      "text/plain": [
       "<Figure size 432x288 with 1 Axes>"
      ]
     },
     "metadata": {
      "needs_background": "light"
     },
     "output_type": "display_data"
    }
   ],
   "source": [
    "plt.figure(figsize=(10, 10))\n",
    "df_text.groupby(\"state\").count().plot.bar(y=\"blurb\", ylim=0)\n",
    "plt.legend().remove()\n",
    "plt.show()"
   ]
  },
  {
   "cell_type": "markdown",
   "metadata": {},
   "source": [
    "### Text Preprocessing"
   ]
  },
  {
   "cell_type": "code",
   "execution_count": 13,
   "metadata": {},
   "outputs": [
    {
     "name": "stderr",
     "output_type": "stream",
     "text": [
      "[nltk_data] Downloading package wordnet to\n",
      "[nltk_data]     /Users/rajatrasal/nltk_data...\n",
      "[nltk_data]   Package wordnet is already up-to-date!\n"
     ]
    },
    {
     "data": {
      "text/plain": [
       "True"
      ]
     },
     "execution_count": 13,
     "metadata": {},
     "output_type": "execute_result"
    }
   ],
   "source": [
    "import re\n",
    "import nltk\n",
    "from nltk.corpus import wordnet as wn\n",
    "nltk.download('wordnet')"
   ]
  },
  {
   "cell_type": "code",
   "execution_count": 14,
   "metadata": {},
   "outputs": [
    {
     "name": "stdout",
     "output_type": "stream",
     "text": [
      "In this video series, RealityCheckpoint will explore Thirteen common and recurring stereotypes of male characters in video games.\n"
     ]
    },
    {
     "data": {
      "text/plain": [
       "'in video series will explore thirteen common recurring stereotypes male characters in video games'"
      ]
     },
     "execution_count": 14,
     "metadata": {},
     "output_type": "execute_result"
    }
   ],
   "source": [
    "print(df_text.blurb[10])\n",
    "split_blurb = re.split(r\"[^a-zA-Z]+\", df_text.blurb[10])\n",
    "english_blurb = \" \".join([word.lower() for word in split_blurb if wn.synsets(word)])\n",
    "english_blurb"
   ]
  },
  {
   "cell_type": "code",
   "execution_count": 15,
   "metadata": {},
   "outputs": [
    {
     "data": {
      "text/plain": [
       "0    angular is a minimalist card design for simpli...\n",
       "1    original songs and music videos to jump start ...\n",
       "2    our project is to launch a vegan lunch deliver...\n",
       "3    i have developed a process of my own which tra...\n",
       "4    need to pay an illustrator to bring my childre...\n",
       "5    disassembling is a colouring book full of diss...\n",
       "6    all night yahtzee is planning on releasing our...\n",
       "7    super daryl deluxe is a d slapstick action rpg...\n",
       "8    shoggoth shetani blind box one of a kind colle...\n",
       "9    a practice tool to help you be more creative a...\n",
       "Name: blurb, dtype: object"
      ]
     },
     "execution_count": 15,
     "metadata": {},
     "output_type": "execute_result"
    }
   ],
   "source": [
    "def filter_alpha_and_lower(row):\n",
    "    return \" \".join(re.split(r\"[^a-zA-Z]+\", row)).lower()\n",
    "\n",
    "x = df_text.blurb.apply(filter_alpha_and_lower)\n",
    "x.head(10)"
   ]
  },
  {
   "cell_type": "code",
   "execution_count": 292,
   "metadata": {},
   "outputs": [
    {
     "data": {
      "text/plain": [
       "'(94613,), (94613,), (10513,), (10513,)'"
      ]
     },
     "execution_count": 292,
     "metadata": {},
     "output_type": "execute_result"
    }
   ],
   "source": [
    "train_size = int(len(df_text) * 0.9)\n",
    "\n",
    "train, test = df_text.iloc[:train_size, :], df_text.iloc[train_size:, :]\n",
    "X_train, y_train = train.blurb, train.state\n",
    "X_test, y_test = test.blurb, test.state\n",
    "f\"{X_train.shape}, {y_train.shape}, {X_test.shape}, {y_test.shape}\""
   ]
  },
  {
   "cell_type": "code",
   "execution_count": 244,
   "metadata": {
    "collapsed": true
   },
   "outputs": [],
   "source": [
    "np.save(open(\"./data/original_X_train.npy\", \"wb\"), X_train)\n",
    "np.save(open(\"./data/original_y_train.npy\", \"wb\"), y_train)\n",
    "np.save(open(\"./data/original_X_test.npy\", \"wb\"), X_test)\n",
    "np.save(open(\"./data/original_y_test.npy\", \"wb\"), y_test)"
   ]
  },
  {
   "cell_type": "code",
   "execution_count": 240,
   "metadata": {},
   "outputs": [
    {
     "name": "stdout",
     "output_type": "stream",
     "text": [
      "total 47432\r\n",
      "drwxr-xr-x  19 rajatrasal  staff       608  6 Jan 17:57 \u001b[34m.\u001b[m\u001b[m/\r\n",
      "drwxr-xr-x  23 rajatrasal  staff       736 28 Dec 23:37 \u001b[34m..\u001b[m\u001b[m/\r\n",
      "drwxr-xr-x  13 rajatrasal  staff       416  6 Jan 12:28 \u001b[34m.git\u001b[m\u001b[m/\r\n",
      "-rw-r--r--   1 rajatrasal  staff        47 16 Dec 14:03 .gitignore\r\n",
      "-rw-r--r--   1 rajatrasal  staff        96 16 Dec 14:03 .gitlab-ci.yml\r\n",
      "drwxr-xr-x   5 rajatrasal  staff       160  4 Jan 10:46 \u001b[34m.ipynb_checkpoints\u001b[m\u001b[m/\r\n",
      "-rw-r--r--   1 rajatrasal  staff      2381  2 Jan 13:44 README.md\r\n",
      "drwxr-xr-x   3 rajatrasal  staff        96 31 Dec 19:56 \u001b[34m__pycache__\u001b[m\u001b[m/\r\n",
      "-rw-r--r--   1 rajatrasal  staff     87721  4 Jan 11:02 classification_of_non_text_data.ipynb\r\n",
      "drwxr-xr-x   5 rajatrasal  staff       160 31 Dec 20:01 \u001b[34mdata\u001b[m\u001b[m/\r\n",
      "-rw-r--r--   1 rajatrasal  staff     52526  2 Jan 18:53 features_engineering.ipynb\r\n",
      "-rw-r--r--   1 rajatrasal  staff      3553 18 Dec 00:05 intro_numpy.py\r\n",
      "-rw-r--r--   1 rajatrasal  staff      1319 16 Dec 14:03 intro_pandas.py\r\n",
      "-rw-r--r--   1 rajatrasal  staff       357 16 Dec 14:03 model.py\r\n",
      "-rw-r--r--   1 rajatrasal  staff      3691 17 Dec 01:26 more_numpy.py\r\n",
      "-rw-r--r--   1 rajatrasal  staff    136058  6 Jan 17:57 nlp_classification_for_blurb.ipynb\r\n",
      "-rw-r--r--   1 rajatrasal  staff  11982389  6 Jan 17:57 original_test.npy\r\n",
      "-rw-r--r--   1 rajatrasal  staff  11982389  6 Jan 17:57 original_train.npy\r\n",
      "-rwxr-xr-x   1 rajatrasal  staff      1765 31 Dec 19:56 \u001b[31mrun.py\u001b[m\u001b[m*\r\n"
     ]
    }
   ],
   "source": [
    "%ls -la"
   ]
  },
  {
   "cell_type": "markdown",
   "metadata": {},
   "source": [
    "**```CountVectorizer```** tokenises the input list of sentences, by putting an array in the place of each element containing a vectorised representation of sentence. Each vectorised list contains count tokens for the frequency of each word (or n-gram) in the corpus. This array is then compressed into the scipy sparse matrix format.\n",
    "\n",
    "**```TfidfTransformer```** transforms a count matrix to a normalised tf-idf (term-frequency time inverse document-frequency) representation by default. The goal of this normalisation is to scale down the impact of tokens which occur infrequently in a corpus. The tf-idf value increases proportionally to the number of times a word appears in a document and is offset by the number of documents which contain the word. This helps to account for the fact that some word appear more frequently than others.\n",
    "\n",
    "The way the ```TfidfTransformer``` applies the formula below:\n",
    "\n",
    "$$ w_{i, j} = tf_{i, j} \\times log(\\frac{N}{df_i}) $$\n",
    "\n",
    "where **$tf_{i, j}$** = term-frequency of i in j (this comes directly from looking up the ```count_vect.toarray()[i][j]```), **$log_(\\frac{N}{df_i})$** = inverse document-frequency, **$df_i$** = number of documents containing i, and **$N$** = the total number of documents."
   ]
  },
  {
   "cell_type": "code",
   "execution_count": 17,
   "metadata": {},
   "outputs": [
    {
     "data": {
      "text/plain": [
       "(94613, 70250)"
      ]
     },
     "execution_count": 17,
     "metadata": {},
     "output_type": "execute_result"
    }
   ],
   "source": [
    "from sklearn.feature_extraction.text import CountVectorizer, TfidfTransformer\n",
    "count_vect = CountVectorizer()\n",
    "X_train_vec = count_vect.fit_transform(X_train)\n",
    "X_train_vec.shape"
   ]
  },
  {
   "cell_type": "code",
   "execution_count": 18,
   "metadata": {},
   "outputs": [
    {
     "name": "stdout",
     "output_type": "stream",
     "text": [
      "18212\n"
     ]
    },
    {
     "data": {
      "text/plain": [
       "['aa',\n",
       " 'aaos',\n",
       " 'aaron',\n",
       " 'abandoned',\n",
       " 'abandonment',\n",
       " 'abbey',\n",
       " 'abby',\n",
       " 'abc',\n",
       " 'abc book',\n",
       " 'abducted',\n",
       " 'abduction',\n",
       " 'abe',\n",
       " 'abilities',\n",
       " 'ability',\n",
       " 'able',\n",
       " 'able create',\n",
       " 'able make',\n",
       " 'able record',\n",
       " 'able share',\n",
       " 'aboard',\n",
       " 'abortion',\n",
       " 'abraham',\n",
       " 'abroad',\n",
       " 'absence',\n",
       " 'absolute',\n",
       " 'absolutely',\n",
       " 'abstract',\n",
       " 'abstract art',\n",
       " 'abstract paintings',\n",
       " 'absurd',\n",
       " 'absurdity',\n",
       " 'abuse',\n",
       " 'abused',\n",
       " 'abusive',\n",
       " 'abyss',\n",
       " 'ac',\n",
       " 'academic',\n",
       " 'academics',\n",
       " 'academy',\n",
       " 'accent',\n",
       " 'accept',\n",
       " 'acceptance',\n",
       " 'accepted',\n",
       " 'accepting',\n",
       " 'accepts',\n",
       " 'access',\n",
       " 'accessible',\n",
       " 'accessories',\n",
       " 'accessories designed',\n",
       " 'accessory',\n",
       " 'accident',\n",
       " 'accidental',\n",
       " 'accidentally',\n",
       " 'acclaimed',\n",
       " 'accommodate',\n",
       " 'accompanied',\n",
       " 'accompany',\n",
       " 'accompanying',\n",
       " 'accomplish',\n",
       " 'accomplished',\n",
       " 'according',\n",
       " 'accordion',\n",
       " 'account',\n",
       " 'accounts',\n",
       " 'accurate',\n",
       " 'accurately',\n",
       " 'accused',\n",
       " 'ace',\n",
       " 'aces',\n",
       " 'achieve',\n",
       " 'achieve dream',\n",
       " 'achieve dreams',\n",
       " 'achieve goal',\n",
       " 'achieve goals',\n",
       " 'achievement',\n",
       " 'achievements',\n",
       " 'achieving',\n",
       " 'acid',\n",
       " 'acoustic',\n",
       " 'acoustic album',\n",
       " 'acoustic folk',\n",
       " 'acoustic guitar',\n",
       " 'acoustic music',\n",
       " 'acquire',\n",
       " 'acquiring',\n",
       " 'acre',\n",
       " 'acres',\n",
       " 'acrylic',\n",
       " 'acrylic paintings',\n",
       " 'acrylics',\n",
       " 'act',\n",
       " 'acting',\n",
       " 'action',\n",
       " 'action adventure',\n",
       " 'action adventure game',\n",
       " 'action comedy',\n",
       " 'action comic',\n",
       " 'action drama',\n",
       " 'action figure',\n",
       " 'action figures',\n",
       " 'action film',\n",
       " 'action game',\n",
       " 'action horror',\n",
       " 'action movie',\n",
       " 'action packed',\n",
       " 'action platformer',\n",
       " 'action role',\n",
       " 'action role playing',\n",
       " 'action rpg',\n",
       " 'action series',\n",
       " 'action short',\n",
       " 'action sports',\n",
       " 'action thriller',\n",
       " 'action web',\n",
       " 'action web series',\n",
       " 'actions',\n",
       " 'activate',\n",
       " 'active',\n",
       " 'active lifestyle',\n",
       " 'active wear',\n",
       " 'actively',\n",
       " 'activewear',\n",
       " 'activism',\n",
       " 'activist',\n",
       " 'activists',\n",
       " 'activities',\n",
       " 'activity',\n",
       " 'activity book',\n",
       " 'actor',\n",
       " 'actors',\n",
       " 'actress',\n",
       " 'acts',\n",
       " 'actual',\n",
       " 'actual events',\n",
       " 'actually',\n",
       " 'ad',\n",
       " 'adam',\n",
       " 'adams',\n",
       " 'adapt',\n",
       " 'adaptation',\n",
       " 'adapted',\n",
       " 'add',\n",
       " 'add new',\n",
       " 'added',\n",
       " 'addict',\n",
       " 'addicted',\n",
       " 'addicting',\n",
       " 'addiction',\n",
       " 'addictions',\n",
       " 'addictive',\n",
       " 'addicts',\n",
       " 'adding',\n",
       " 'adding new',\n",
       " 'addition',\n",
       " 'additional',\n",
       " 'address',\n",
       " 'addresses',\n",
       " 'addressing',\n",
       " 'adds',\n",
       " 'adhd',\n",
       " 'adhesive',\n",
       " 'adjust',\n",
       " 'adjustable',\n",
       " 'adolescence',\n",
       " 'adolescent',\n",
       " 'adopt',\n",
       " 'adoptable',\n",
       " 'adopted',\n",
       " 'adoption',\n",
       " 'adorable',\n",
       " 'adorn',\n",
       " 'adrenaline',\n",
       " 'adrian',\n",
       " 'ads',\n",
       " 'adult',\n",
       " 'adult coloring',\n",
       " 'adult coloring book',\n",
       " 'adult fantasy',\n",
       " 'adult fiction',\n",
       " 'adult novel',\n",
       " 'adulthood',\n",
       " 'adults',\n",
       " 'adults alike',\n",
       " 'adults children',\n",
       " 'advance',\n",
       " 'advanced',\n",
       " 'advancing',\n",
       " 'advantage',\n",
       " 'advent',\n",
       " 'adventure',\n",
       " 'adventure board',\n",
       " 'adventure board game',\n",
       " 'adventure book',\n",
       " 'adventure comedy',\n",
       " 'adventure comic',\n",
       " 'adventure fantasy',\n",
       " 'adventure film',\n",
       " 'adventure game',\n",
       " 'adventure game set',\n",
       " 'adventure novel',\n",
       " 'adventure rpg',\n",
       " 'adventure series',\n",
       " 'adventure set',\n",
       " 'adventure story',\n",
       " 'adventurer',\n",
       " 'adventurers',\n",
       " 'adventures',\n",
       " 'adventuring',\n",
       " 'adventurous',\n",
       " 'adversity',\n",
       " 'advertise',\n",
       " 'advertising',\n",
       " 'advice',\n",
       " 'advocate',\n",
       " 'advocates',\n",
       " 'aerial',\n",
       " 'aesthetic',\n",
       " 'aesthetically',\n",
       " 'aesthetics',\n",
       " 'af',\n",
       " 'affair',\n",
       " 'affairs',\n",
       " 'affect',\n",
       " 'affected',\n",
       " 'affecting',\n",
       " 'affection',\n",
       " 'affects',\n",
       " 'afford',\n",
       " 'affordable',\n",
       " 'affordable price',\n",
       " 'affordable prices',\n",
       " 'afghan',\n",
       " 'afghanistan',\n",
       " 'afraid',\n",
       " 'africa',\n",
       " 'africa s',\n",
       " 'african',\n",
       " 'african american',\n",
       " 'africans',\n",
       " 'afro',\n",
       " 'afterlife',\n",
       " 'aftermath',\n",
       " 'afternoon',\n",
       " 'age',\n",
       " 'age old',\n",
       " 'age story',\n",
       " 'aged',\n",
       " 'agency',\n",
       " 'agenda',\n",
       " 'agent',\n",
       " 'agents',\n",
       " 'ages',\n",
       " 'aggressive',\n",
       " 'aging',\n",
       " 'ago',\n",
       " 'agree',\n",
       " 'agreed',\n",
       " 'agricultural',\n",
       " 'agriculture',\n",
       " 'ahead',\n",
       " 'ai',\n",
       " 'aid',\n",
       " 'aide',\n",
       " 'aided',\n",
       " 'aidez',\n",
       " 'aids',\n",
       " 'aim',\n",
       " 'aim bring',\n",
       " 'aim create',\n",
       " 'aim make',\n",
       " 'aim provide',\n",
       " 'aimed',\n",
       " 'aiming',\n",
       " 'aims',\n",
       " 'aims bring',\n",
       " 'aims create',\n",
       " 'ain',\n",
       " 'ain t',\n",
       " 'air',\n",
       " 'aircraft',\n",
       " 'aires',\n",
       " 'airing',\n",
       " 'airline',\n",
       " 'airplane',\n",
       " 'airport',\n",
       " 'airship',\n",
       " 'airships',\n",
       " 'airwaves',\n",
       " 'ak',\n",
       " 'aka',\n",
       " 'akron',\n",
       " 'al',\n",
       " 'alabama',\n",
       " 'alan',\n",
       " 'alaska',\n",
       " 'alaskan',\n",
       " 'albany',\n",
       " 'albert',\n",
       " 'alberta',\n",
       " 'album',\n",
       " 'album album',\n",
       " 'album art',\n",
       " 'album band',\n",
       " 'album based',\n",
       " 'album beautiful',\n",
       " 'album best',\n",
       " 'album big',\n",
       " 'album bring',\n",
       " 'album called',\n",
       " 'album cd',\n",
       " 'album check',\n",
       " 'album collection',\n",
       " 'album come',\n",
       " 'album coming',\n",
       " 'album complete',\n",
       " 'album created',\n",
       " 'album creative',\n",
       " 'album d',\n",
       " 'album dream',\n",
       " 'album entitled',\n",
       " 'album ep',\n",
       " 'album excited',\n",
       " 'album explores',\n",
       " 'album fall',\n",
       " 'album fans',\n",
       " 'album feature',\n",
       " 'album features',\n",
       " 'album featuring',\n",
       " 'album filled',\n",
       " 'album finished',\n",
       " 'album going',\n",
       " 'album great',\n",
       " 'album help',\n",
       " 'album help fund',\n",
       " 'album help make',\n",
       " 'album hope',\n",
       " 'album independently',\n",
       " 'album inspired',\n",
       " 'album join',\n",
       " 'album just',\n",
       " 'album just need',\n",
       " 'album launch',\n",
       " 'album let',\n",
       " 'album let s',\n",
       " 'album life',\n",
       " 'album like',\n",
       " 'album live',\n",
       " 'album ll',\n",
       " 'album looking',\n",
       " 'album love',\n",
       " 'album m',\n",
       " 'album make',\n",
       " 'album making',\n",
       " 'album mix',\n",
       " 'album mixed',\n",
       " 'album music',\n",
       " 'album music video',\n",
       " 'album nashville',\n",
       " 'album need',\n",
       " 'album need help',\n",
       " 'album need support',\n",
       " 'album needs',\n",
       " 'album needs help',\n",
       " 'album new',\n",
       " 'album new songs',\n",
       " 'album original',\n",
       " 'album original compositions',\n",
       " 'album original material',\n",
       " 'album original music',\n",
       " 'album original songs',\n",
       " 'album people',\n",
       " 'album pre',\n",
       " 'album pre order',\n",
       " 'album produced',\n",
       " 'album professional',\n",
       " 'album project',\n",
       " 'album ready',\n",
       " 'album reality',\n",
       " 'album receive',\n",
       " 'album recorded',\n",
       " 'album recording',\n",
       " 'album release',\n",
       " 'album released',\n",
       " 'album right',\n",
       " 'album rock',\n",
       " 'album s',\n",
       " 'album series',\n",
       " 'album singer',\n",
       " 'album singer songwriter',\n",
       " 'album songs',\n",
       " 'album studio',\n",
       " 'album summer',\n",
       " 'album support',\n",
       " 'album t',\n",
       " 'album tells',\n",
       " 'album time',\n",
       " 'album titled',\n",
       " 'album tour',\n",
       " 'album use',\n",
       " 'album ve',\n",
       " 'album video',\n",
       " 'album vinyl',\n",
       " 'album want',\n",
       " 'album way',\n",
       " 'album world',\n",
       " 'album written',\n",
       " 'album year',\n",
       " 'album years',\n",
       " 'album years making',\n",
       " 'albums',\n",
       " 'albuquerque',\n",
       " 'alchemy',\n",
       " 'alcohol',\n",
       " 'alcoholic',\n",
       " 'ale',\n",
       " 'alec',\n",
       " 'alert',\n",
       " 'ales',\n",
       " 'alex',\n",
       " 'alexa',\n",
       " 'alexander',\n",
       " 'alexis',\n",
       " 'alfred',\n",
       " 'ali',\n",
       " 'alice',\n",
       " 'alice wonderland',\n",
       " 'alicia',\n",
       " 'alien',\n",
       " 'alien invasion',\n",
       " 'alien race',\n",
       " 'alienation',\n",
       " 'aliens',\n",
       " 'alike',\n",
       " 'alison',\n",
       " 'alive',\n",
       " 'alla',\n",
       " 'allan',\n",
       " 'allan poe',\n",
       " 'alle',\n",
       " 'allegory',\n",
       " 'allen',\n",
       " 'allergy',\n",
       " 'alley',\n",
       " 'alliance',\n",
       " 'alliances',\n",
       " 'allies',\n",
       " 'alligator',\n",
       " 'allow',\n",
       " 'allowed',\n",
       " 'allowing',\n",
       " 'allows',\n",
       " 'allows users',\n",
       " 'ally',\n",
       " 'aloha',\n",
       " 'alongside',\n",
       " 'alpaca',\n",
       " 'alpha',\n",
       " 'alphabet',\n",
       " 'alphabet book',\n",
       " 'alps',\n",
       " 'als',\n",
       " 'alt',\n",
       " 'alt country',\n",
       " 'alt rock',\n",
       " 'altar',\n",
       " 'alter',\n",
       " 'alter ego',\n",
       " 'altered',\n",
       " 'altering',\n",
       " 'alternate',\n",
       " 'alternate history',\n",
       " 'alternative',\n",
       " 'alternative rock',\n",
       " 'alternative rock band',\n",
       " 'alternatives',\n",
       " 'alto',\n",
       " 'aluminium',\n",
       " 'aluminum',\n",
       " 'alumni',\n",
       " 'alzheimer',\n",
       " 'alzheimer s',\n",
       " 'amanda',\n",
       " 'amateur',\n",
       " 'amaze',\n",
       " 'amazing',\n",
       " 'amazing food',\n",
       " 'amazing music',\n",
       " 'amazing musicians',\n",
       " 'amazing new',\n",
       " 'amazing opportunity',\n",
       " 'amazing people',\n",
       " 'amazing story',\n",
       " 'amazing things',\n",
       " 'amazingly',\n",
       " 'amazon',\n",
       " 'ambassadors',\n",
       " 'amber',\n",
       " 'ambient',\n",
       " 'ambition',\n",
       " 'ambitious',\n",
       " 'ambitious project',\n",
       " 'amelia',\n",
       " 'america',\n",
       " 'america s',\n",
       " 'americaa',\n",
       " 'americaa s',\n",
       " 'american',\n",
       " 'american artists',\n",
       " 'american civil',\n",
       " 'american civil war',\n",
       " 'american composers',\n",
       " 'american culture',\n",
       " 'american dream',\n",
       " 'american girl',\n",
       " 'american history',\n",
       " 'american idol',\n",
       " 'american music',\n",
       " 'american rock',\n",
       " 'american s',\n",
       " 'american west',\n",
       " 'american woman',\n",
       " 'americana',\n",
       " 'americana band',\n",
       " 'americana folk',\n",
       " 'americana music',\n",
       " 'americans',\n",
       " 'americas',\n",
       " 'amid',\n",
       " 'amidst',\n",
       " 'amiga',\n",
       " 'amish',\n",
       " 'amounts',\n",
       " 'amsterdam',\n",
       " 'amusement',\n",
       " 'amusement park',\n",
       " 'amusing',\n",
       " 'amy',\n",
       " 'ana',\n",
       " 'analog',\n",
       " 'analog tape',\n",
       " 'analysis',\n",
       " 'anarchy',\n",
       " 'anatomy',\n",
       " 'ancestors',\n",
       " 'ancestral',\n",
       " 'anchor',\n",
       " 'ancient',\n",
       " 'ancient evil',\n",
       " 'anderson',\n",
       " 'andre',\n",
       " 'andrea',\n",
       " 'andrew',\n",
       " 'android',\n",
       " 'android devices',\n",
       " 'android game',\n",
       " 'android ios',\n",
       " 'android pc',\n",
       " 'android windows',\n",
       " 'andy',\n",
       " 'anecdotes',\n",
       " 'angel',\n",
       " 'angela',\n",
       " 'angeles',\n",
       " 'angeles based',\n",
       " 'angeles ca',\n",
       " 'angelic',\n",
       " 'angelo',\n",
       " 'angels',\n",
       " 'angels demons',\n",
       " 'anger',\n",
       " 'angie',\n",
       " 'angle',\n",
       " 'angles',\n",
       " 'angry',\n",
       " 'animal',\n",
       " 'animal rescue',\n",
       " 'animals',\n",
       " 'animate',\n",
       " 'animated',\n",
       " 'animated cartoon',\n",
       " 'animated comedy',\n",
       " 'animated documentary',\n",
       " 'animated feature',\n",
       " 'animated film',\n",
       " 'animated movie',\n",
       " 'animated music',\n",
       " 'animated music video',\n",
       " 'animated series',\n",
       " 'animated short',\n",
       " 'animated short film',\n",
       " 'animated shorts',\n",
       " 'animated tv',\n",
       " 'animated video',\n",
       " 'animated web',\n",
       " 'animated web series',\n",
       " 'animation',\n",
       " 'animation film',\n",
       " 'animation project',\n",
       " 'animation series',\n",
       " 'animation video',\n",
       " 'animations',\n",
       " 'animator',\n",
       " 'animators',\n",
       " 'anime',\n",
       " 'anime manga',\n",
       " 'anime style',\n",
       " 'ann',\n",
       " 'ann arbor',\n",
       " 'anna',\n",
       " 'anne',\n",
       " 'annie',\n",
       " 'anniversary',\n",
       " 'announce',\n",
       " 'annoying',\n",
       " 'annual',\n",
       " 'annually',\n",
       " 'anodized',\n",
       " 'anonymous',\n",
       " 'ans',\n",
       " 'answer',\n",
       " 'answer question',\n",
       " 'answered',\n",
       " 'answers',\n",
       " 'ant',\n",
       " 'antarctica',\n",
       " 'anthem',\n",
       " 'anthems',\n",
       " 'anthology',\n",
       " 'anthology comic',\n",
       " 'anthology featuring',\n",
       " 'anthology series',\n",
       " 'anthology short',\n",
       " 'anthology short stories',\n",
       " 'anthology stories',\n",
       " 'anthony',\n",
       " 'anthropomorphic',\n",
       " 'anti',\n",
       " 'anti bullying',\n",
       " 'anticipated',\n",
       " 'anticipated album',\n",
       " 'anticipated debut',\n",
       " 'antics',\n",
       " 'antique',\n",
       " 'antonio',\n",
       " 'ants',\n",
       " 'anxiety',\n",
       " 'anxious',\n",
       " 'anybody',\n",
       " 'anymore',\n",
       " 'anytime',\n",
       " 'apart',\n",
       " 'apartment',\n",
       " 'ape',\n",
       " 'apex',\n",
       " 'apocalypse',\n",
       " 'apocalyptic',\n",
       " 'apocalyptic future',\n",
       " 'apocalyptic love',\n",
       " 'apocalyptic love story',\n",
       " 'apocalyptic world',\n",
       " 'apollo',\n",
       " 'app',\n",
       " 'app allows',\n",
       " 'app based',\n",
       " 'app game',\n",
       " 'app store',\n",
       " 'appalachia',\n",
       " 'appalachian',\n",
       " 'appalachian trail',\n",
       " 'apparel',\n",
       " 'apparel accessories',\n",
       " 'apparel brand',\n",
       " 'apparel clothing',\n",
       " 'apparel company',\n",
       " 'apparel line',\n",
       " 'appeal',\n",
       " 'appealing',\n",
       " 'appeals',\n",
       " 'appear',\n",
       " 'appearance',\n",
       " 'appearances',\n",
       " 'appeared',\n",
       " 'appears',\n",
       " 'appetite',\n",
       " 'apple',\n",
       " 'apple android',\n",
       " 'apples',\n",
       " 'application',\n",
       " 'applications',\n",
       " 'applied',\n",
       " 'apply',\n",
       " 'applying',\n",
       " 'appreciate',\n",
       " 'appreciate help',\n",
       " 'appreciated',\n",
       " 'appreciation',\n",
       " 'apprentice',\n",
       " 'approach',\n",
       " 'approaches',\n",
       " 'approaching',\n",
       " 'appropriate',\n",
       " 'approved',\n",
       " 'approx',\n",
       " 'approximately',\n",
       " 'apps',\n",
       " 'april',\n",
       " 'april th',\n",
       " 'aqua',\n",
       " 'aquaponic',\n",
       " 'aquaponics',\n",
       " 'aquarium',\n",
       " 'aquatic',\n",
       " 'ar',\n",
       " 'arab',\n",
       " 'arabic',\n",
       " 'arbor',\n",
       " 'arc',\n",
       " 'arcade',\n",
       " 'arcade game',\n",
       " 'arcade style',\n",
       " 'arcana',\n",
       " 'arch',\n",
       " 'archaeological',\n",
       " 'archer',\n",
       " 'architect',\n",
       " 'architects',\n",
       " 'architectural',\n",
       " 'architecture',\n",
       " 'archival',\n",
       " 'archive',\n",
       " 'archives',\n",
       " 'arctic',\n",
       " 'area',\n",
       " 'area s',\n",
       " 'areas',\n",
       " 'aren',\n",
       " 'aren t',\n",
       " 'arena',\n",
       " 'arenas',\n",
       " 'argentina',\n",
       " 'argument',\n",
       " 'arise',\n",
       " 'arizona',\n",
       " 'ark',\n",
       " 'arkansas',\n",
       " 'arkham',\n",
       " 'arm',\n",
       " 'armed',\n",
       " 'armenian',\n",
       " 'armies',\n",
       " 'armor',\n",
       " 'arms',\n",
       " 'army',\n",
       " 'arnold',\n",
       " 'aromatherapy',\n",
       " 'arranged',\n",
       " 'arrangement',\n",
       " 'arrangements',\n",
       " 'arranger',\n",
       " 'array',\n",
       " 'arrival',\n",
       " 'arrive',\n",
       " 'arrived',\n",
       " 'arrives',\n",
       " 'arrow',\n",
       " 'arrows',\n",
       " 'arsenal',\n",
       " 'art',\n",
       " 'art art',\n",
       " 'art basel',\n",
       " 'art book',\n",
       " 'art book featuring',\n",
       " 'art books',\n",
       " 'art car',\n",
       " 'art center',\n",
       " 'art clothing',\n",
       " 'art collection',\n",
       " 'art collective',\n",
       " 'art community',\n",
       " 'art craft',\n",
       " 'art created',\n",
       " 'art culture',\n",
       " 'art dance',\n",
       " 'art design',\n",
       " 'art event',\n",
       " 'art exhibit',\n",
       " 'art exhibition',\n",
       " 'art experience',\n",
       " 'art fair',\n",
       " 'art fashion',\n",
       " 'art festival',\n",
       " 'art film',\n",
       " 'art form',\n",
       " 'art form power',\n",
       " 'art forms',\n",
       " 'art gallery',\n",
       " 'art help',\n",
       " 'art history',\n",
       " 'art inspired',\n",
       " 'art installation',\n",
       " 'art life',\n",
       " 'art love',\n",
       " 'art lovers',\n",
       " 'art magazine',\n",
       " 'art making',\n",
       " 'art museum',\n",
       " 'art music',\n",
       " 'art need',\n",
       " 'art new',\n",
       " 'art nouveau',\n",
       " 'art nude',\n",
       " 'art nude photography',\n",
       " 'art nudes',\n",
       " 'art nudes intended',\n",
       " 'art painting',\n",
       " 'art people',\n",
       " 'art performance',\n",
       " 'art photo',\n",
       " 'art photography',\n",
       " 'art photography book',\n",
       " 'art piece',\n",
       " 'art pieces',\n",
       " 'art poetry',\n",
       " 'art print',\n",
       " 'art prints',\n",
       " 'art project',\n",
       " 'art projects',\n",
       " 'art s',\n",
       " 'art school',\n",
       " 'art science',\n",
       " 'art sculpture',\n",
       " 'art series',\n",
       " 'art shows',\n",
       " 'art space',\n",
       " 'art student',\n",
       " 'art students',\n",
       " 'art studio',\n",
       " 'art style',\n",
       " 'art supplies',\n",
       " 'art work',\n",
       " 'art works',\n",
       " 'art workshops',\n",
       " 'art world',\n",
       " 'artbook',\n",
       " 'arte',\n",
       " 'artful',\n",
       " 'artfully',\n",
       " 'arthur',\n",
       " 'article',\n",
       " 'articles',\n",
       " 'artifact',\n",
       " 'artifacts',\n",
       " 'artificial',\n",
       " 'artificial intelligence',\n",
       " 'artisan',\n",
       " 'artisanal',\n",
       " 'artisans',\n",
       " 'artist',\n",
       " 'artist book',\n",
       " 'artist create',\n",
       " 'artist help',\n",
       " 'artist looking',\n",
       " 'artist need',\n",
       " 'artist needs',\n",
       " 'artist producer',\n",
       " 'artist residence',\n",
       " 'artist residency',\n",
       " 'artist s',\n",
       " 'artist trying',\n",
       " 'artist wants',\n",
       " 'artista',\n",
       " 'artistic',\n",
       " 'artistic expression',\n",
       " 'artistically',\n",
       " 'artistry',\n",
       " 'artists',\n",
       " 'artists come',\n",
       " 'artists create',\n",
       " 'artists designers',\n",
       " 'artists music',\n",
       " 'artists musicians',\n",
       " 'artists need',\n",
       " 'artists photographers',\n",
       " 'artists work',\n",
       " 'artists working',\n",
       " 'artists world',\n",
       " 'artists writers',\n",
       " 'artprize',\n",
       " 'arts',\n",
       " 'arts center',\n",
       " 'arts community',\n",
       " 'arts culture',\n",
       " 'arts education',\n",
       " 'arts festival',\n",
       " 'arts program',\n",
       " 'artsy',\n",
       " 'artwork',\n",
       " 'artwork created',\n",
       " 'artworks',\n",
       " 'asa',\n",
       " 'asap',\n",
       " 'ascension',\n",
       " 'ash',\n",
       " 'ashes',\n",
       " 'asheville',\n",
       " 'asheville nc',\n",
       " 'ashley',\n",
       " 'asia',\n",
       " 'asian',\n",
       " 'asian american',\n",
       " 'aside',\n",
       " 'ask',\n",
       " 'ask help',\n",
       " 'asked',\n",
       " 'asking',\n",
       " 'asking help',\n",
       " 'asking support',\n",
       " 'asks',\n",
       " 'asleep',\n",
       " 'aspect',\n",
       " 'aspects',\n",
       " 'asperger',\n",
       " 'aspirations',\n",
       " 'aspire',\n",
       " 'aspiring',\n",
       " 'aspiring artist',\n",
       " 'ass',\n",
       " 'assassin',\n",
       " 'assassination',\n",
       " 'assassins',\n",
       " 'assault',\n",
       " 'assemble',\n",
       " 'assembled',\n",
       " 'assembly',\n",
       " 'assets',\n",
       " 'assignment',\n",
       " 'assist',\n",
       " 'assistance',\n",
       " 'assistant',\n",
       " 'associated',\n",
       " 'association',\n",
       " 'assortment',\n",
       " 'asteroid',\n",
       " 'astonishing',\n",
       " 'astronaut',\n",
       " 'astronauts',\n",
       " 'astronomical',\n",
       " 'asylum',\n",
       " 'atari',\n",
       " 'ate',\n",
       " 'athens',\n",
       " 'athlete',\n",
       " 'athletes',\n",
       " 'athletic',\n",
       " 'athletics',\n",
       " 'atl',\n",
       " 'atlanta',\n",
       " 'atlanta ga',\n",
       " 'atlantic',\n",
       " 'atlantis',\n",
       " 'atlas',\n",
       " 'atmosphere',\n",
       " 'atmospheric',\n",
       " 'atomic',\n",
       " 'atop',\n",
       " 'att',\n",
       " 'attach',\n",
       " 'attached',\n",
       " 'attaches',\n",
       " 'attachment',\n",
       " 'attack',\n",
       " 'attacked',\n",
       " 'attacks',\n",
       " 'attempt',\n",
       " 'attempt save',\n",
       " 'attempted',\n",
       " 'attempting',\n",
       " 'attempting create',\n",
       " 'attempting raise',\n",
       " 'attempts',\n",
       " 'attend',\n",
       " 'attending',\n",
       " 'attention',\n",
       " 'attic',\n",
       " 'attitude',\n",
       " 'attract',\n",
       " 'attraction',\n",
       " 'attractions',\n",
       " 'attractive',\n",
       " 'au',\n",
       " 'auburn',\n",
       " 'auction',\n",
       " 'audience',\n",
       " 'audiences',\n",
       " 'audio',\n",
       " 'audio book',\n",
       " 'audio cd',\n",
       " 'audio video',\n",
       " 'audio visual',\n",
       " 'audiobook',\n",
       " ...]"
      ]
     },
     "execution_count": 18,
     "metadata": {},
     "output_type": "execute_result"
    }
   ],
   "source": [
    "count_vect = CountVectorizer(stop_words=\"english\", analyzer=\"word\",\n",
    "                             token_pattern=\"[a-zA-Z]+\", min_df=10,\n",
    "                             strip_accents=\"ascii\", ngram_range=(1, 3))\n",
    "X_train_count_vec = count_vect.fit_transform(df_text.blurb.values)\n",
    "print(len(count_vect.get_feature_names()))\n",
    "count_vect.get_feature_names()[0:10]"
   ]
  },
  {
   "cell_type": "code",
   "execution_count": 19,
   "metadata": {},
   "outputs": [
    {
     "data": {
      "text/plain": [
       "<105126x18212 sparse matrix of type '<class 'numpy.int64'>'\n",
       "\twith 1257036 stored elements in Compressed Sparse Row format>"
      ]
     },
     "execution_count": 19,
     "metadata": {},
     "output_type": "execute_result"
    }
   ],
   "source": [
    "X_train_count_vec"
   ]
  },
  {
   "cell_type": "code",
   "execution_count": 20,
   "metadata": {},
   "outputs": [
    {
     "data": {
      "text/plain": [
       "'Number of Words: 18212'"
      ]
     },
     "execution_count": 20,
     "metadata": {},
     "output_type": "execute_result"
    }
   ],
   "source": [
    "f\"Number of Words: {len(count_vect.get_feature_names())}\""
   ]
  },
  {
   "cell_type": "code",
   "execution_count": 21,
   "metadata": {},
   "outputs": [
    {
     "data": {
      "text/plain": [
       "<105126x18212 sparse matrix of type '<class 'numpy.float64'>'\n",
       "\twith 1257036 stored elements in Compressed Sparse Row format>"
      ]
     },
     "execution_count": 21,
     "metadata": {},
     "output_type": "execute_result"
    }
   ],
   "source": [
    "tfidf_trans = TfidfTransformer()\n",
    "X_train_tfidf_trans = tfidf_trans.fit_transform(X_train_count_vec)\n",
    "X_train_tfidf_trans"
   ]
  },
  {
   "cell_type": "markdown",
   "metadata": {},
   "source": [
    "## Models"
   ]
  },
  {
   "cell_type": "code",
   "execution_count": 293,
   "metadata": {},
   "outputs": [
    {
     "name": "stdout",
     "output_type": "stream",
     "text": [
      "85151\n"
     ]
    },
    {
     "data": {
      "text/plain": [
       "'X_train: (94613,), y_train: (94613,), X_val: (9462,), y_val: (9462,)'"
      ]
     },
     "execution_count": 293,
     "metadata": {},
     "output_type": "execute_result"
    }
   ],
   "source": [
    "train_size = int(len(X_train) * 0.9)\n",
    "print(train_size)\n",
    "\n",
    "X_train2, y_train2 = X_train.iloc[:train_size], y_train.iloc[:train_size]\n",
    "X_val, y_val = X_train.iloc[train_size:], y_train.iloc[train_size:]\n",
    "\n",
    "f\"X_train: {X_train.shape}, y_train: {y_train.shape}, X_val: {X_val.shape}, y_val: {y_val.shape}\""
   ]
  },
  {
   "cell_type": "code",
   "execution_count": 294,
   "metadata": {
    "collapsed": true
   },
   "outputs": [],
   "source": [
    "X_train = X_train2\n",
    "y_train = y_train2"
   ]
  },
  {
   "cell_type": "markdown",
   "metadata": {},
   "source": [
    "### Baseline Models"
   ]
  },
  {
   "cell_type": "code",
   "execution_count": 24,
   "metadata": {
    "collapsed": true
   },
   "outputs": [],
   "source": [
    "def compare_baseline(fitted_model, X_train, y_train, X_val, y_val):\n",
    "    pred_train = fitted_model.predict(X_train)\n",
    "    pred_val = fitted_model.predict(X_val)\n",
    "    print(f\"Training Accuracy: {accuracy_score(pred_train, y_train)}\")    \n",
    "    print(f\"Validation Accuracy: {accuracy_score(pred_val, y_val)}\")"
   ]
  },
  {
   "cell_type": "code",
   "execution_count": 25,
   "metadata": {},
   "outputs": [
    {
     "name": "stdout",
     "output_type": "stream",
     "text": [
      "Training Accuracy: 0.9875632699557257\n",
      "Validation Accuracy: 0.6833650391037835\n"
     ]
    }
   ],
   "source": [
    "from sklearn.svm import LinearSVC, SVC\n",
    "from sklearn.pipeline import Pipeline\n",
    "from sklearn.metrics import accuracy_score\n",
    "\n",
    "text_clf_svc = Pipeline([\n",
    "    ('vect', CountVectorizer(stop_words=\"english\", analyzer=\"word\",\n",
    "                             token_pattern=\"[a-zA-Z]+\", strip_accents=\"ascii\", \n",
    "                             min_df=1, ngram_range=(1, 4))),\n",
    "    ('tfidf', TfidfTransformer()),\n",
    "    ('clf-svm', LinearSVC(loss=\"hinge\", max_iter=50, random_state=42, tol=1e-10))\n",
    "])\n",
    "\n",
    "text_clf_svc.fit(X_train, y_train)\n",
    "\n",
    "compare_baseline(text_clf_svc, X_train, y_train, X_val, y_val)"
   ]
  },
  {
   "cell_type": "code",
   "execution_count": 298,
   "metadata": {},
   "outputs": [
    {
     "name": "stdout",
     "output_type": "stream",
     "text": [
      "Training Accuracy: 0.5030945027069559\n",
      "Validation Accuracy: 0.5078207567110548\n"
     ]
    }
   ],
   "source": [
    "from sklearn.svm import LinearSVC, SVC\n",
    "from sklearn.pipeline import Pipeline\n",
    "from sklearn.metrics import accuracy_score\n",
    "\n",
    "text_clf_svc2 = Pipeline([\n",
    "    ('vect', CountVectorizer(stop_words=\"english\", analyzer=\"word\",\n",
    "                             token_pattern=\"[a-zA-Z]+\", strip_accents=\"ascii\", \n",
    "                             min_df=1, ngram_range=(1, 4))),\n",
    "    ('tfidf', TfidfTransformer()),\n",
    "    ('clf-svm', SVC(probability=True, degree=1, max_iter=200, random_state=42, tol=1e-10))\n",
    "])\n",
    "\n",
    "text_clf_svc2.fit(X_train, y_train)\n",
    "\n",
    "compare_baseline(text_clf_svc2, X_train, y_train, X_val, y_val)"
   ]
  },
  {
   "cell_type": "code",
   "execution_count": 26,
   "metadata": {},
   "outputs": [
    {
     "name": "stdout",
     "output_type": "stream",
     "text": [
      "Training Accuracy: 0.9169123087221525\n",
      "Validation Accuracy: 0.6767068273092369\n"
     ]
    }
   ],
   "source": [
    "from sklearn.linear_model import LogisticRegression\n",
    "\n",
    "text_clf_lgr = Pipeline([\n",
    "    ('vect', CountVectorizer(stop_words=\"english\", analyzer=\"word\",\n",
    "                             token_pattern=\"[a-zA-Z]+\", strip_accents=\"ascii\", \n",
    "                             min_df=1, ngram_range=(1, 4))),\n",
    "    ('tfidf', TfidfTransformer()),\n",
    "    ('clf-lgr', LogisticRegression(tol=1e-10, max_iter=50))\n",
    "])\n",
    "\n",
    "text_clf_lgr.fit(X_train, y_train)\n",
    "\n",
    "compare_baseline(text_clf_lgr, X_train, y_train, X_val, y_val)"
   ]
  },
  {
   "cell_type": "code",
   "execution_count": 27,
   "metadata": {},
   "outputs": [
    {
     "name": "stdout",
     "output_type": "stream",
     "text": [
      "Training Accuracy: 0.7445361769092553\n",
      "Validation Accuracy: 0.6537729866835764\n"
     ]
    }
   ],
   "source": [
    "from sklearn.linear_model import SGDClassifier\n",
    "\n",
    "text_clf_sgd = Pipeline([\n",
    "    ('vect', CountVectorizer(stop_words=\"english\", analyzer=\"word\",\n",
    "                             token_pattern=\"[a-zA-Z]+\", strip_accents=\"ascii\", \n",
    "                             min_df=1, ngram_range=(1, 4))),\n",
    "    ('tfidf', TfidfTransformer()),\n",
    "    ('clf-sgd', SGDClassifier(max_iter=50))\n",
    "])\n",
    "\n",
    "text_clf_sgd.fit(X_train, y_train)\n",
    "\n",
    "compare_baseline(text_clf_sgd, X_train, y_train, X_val, y_val)"
   ]
  },
  {
   "cell_type": "code",
   "execution_count": 30,
   "metadata": {},
   "outputs": [
    {
     "name": "stdout",
     "output_type": "stream",
     "text": [
      "{'vect__min_df': 1, 'vect__ngram_range': (1, 3)}\n",
      "Training Accuracy: 0.9795774565184202\n",
      "Validation Accuracy: 0.6832593532022828\n"
     ]
    }
   ],
   "source": [
    "# from sklearn.model_selection import GridSearchCV\n",
    "\n",
    "# params = {'vect__min_df': [1, 2, 3], 'vect__ngram_range': [(1, 2), (1, 3), (1, 4)]}\n",
    "\n",
    "# grid_search = GridSearchCV(text_clf_svc, params, scoring=\"accuracy\")\n",
    "# grid_search.fit(X_train, y_train)\n",
    "\n",
    "# print(grid_search.best_params_)\n",
    "# compare_baseline(grid_search.best_estimator_, X_train, y_train, X_val, y_val)\n",
    "\n",
    "# Best params:\n",
    "# {'vect__min_df': 1, 'vect__ngram_range': (1, 3)}"
   ]
  },
  {
   "cell_type": "markdown",
   "metadata": {},
   "source": [
    "### Neural Networks"
   ]
  },
  {
   "cell_type": "code",
   "execution_count": 28,
   "metadata": {},
   "outputs": [
    {
     "data": {
      "text/plain": [
       "'train shape: (85151, 1426575), validation shape: (9462, 1426575)'"
      ]
     },
     "execution_count": 28,
     "metadata": {},
     "output_type": "execute_result"
    }
   ],
   "source": [
    "vectorisation_pipline = Pipeline([\n",
    "    ('vect', CountVectorizer(stop_words=\"english\", analyzer=\"word\",\n",
    "                             token_pattern=\"[a-zA-Z]+\", strip_accents=\"ascii\", \n",
    "                             min_df=1, ngram_range=(1, 3))),\n",
    "    ('tfidf', TfidfTransformer())\n",
    "])\n",
    "\n",
    "X_train_nn = vectorisation_pipline.fit_transform(X_train)\n",
    "X_val_nn = vectorisation_pipline.transform(X_val)\n",
    "f\"train shape: {X_train_nn.shape}, validation shape: {X_val_nn.shape}\""
   ]
  },
  {
   "cell_type": "code",
   "execution_count": 234,
   "metadata": {
    "collapsed": true
   },
   "outputs": [],
   "source": [
    "import tensorflow as tf\n",
    "from tensorflow.keras.models import Sequential\n",
    "from tensorflow.keras.layers import Dense, Dropout, Activation\n",
    "\n",
    "def nlp_classifier_keras(input_dim):\n",
    "    model = Sequential()\n",
    "    model.add(Dense(256, input_dim=input_dim, activation='relu'))\n",
    "    model.add(Dropout(0.5))\n",
    "    model.add(Dense(1, activation='sigmoid'))\n",
    "    model.compile(loss='binary_crossentropy', optimizer='adam', metrics=['accuracy'])\n",
    "    return model\n",
    "    \n",
    "nn_model = nlp_classifier_keras(X_train_nn.shape[1])"
   ]
  },
  {
   "cell_type": "code",
   "execution_count": 235,
   "metadata": {
    "scrolled": true
   },
   "outputs": [
    {
     "ename": "ValueError",
     "evalue": "Input arrays should have the same number of samples as target arrays. Found 85151 input samples and 67280 target samples.",
     "output_type": "error",
     "traceback": [
      "\u001b[0;31m---------------------------------------------------------------------------\u001b[0m",
      "\u001b[0;31mValueError\u001b[0m                                Traceback (most recent call last)",
      "\u001b[0;32m<ipython-input-235-dcf87893601c>\u001b[0m in \u001b[0;36m<module>\u001b[0;34m\u001b[0m\n\u001b[1;32m      1\u001b[0m nn_model.fit(X_train_nn, y_train, epochs=3, verbose=True, \n\u001b[0;32m----> 2\u001b[0;31m              batch_size=5000, validation_data=(X_val_nn, y_val))\n\u001b[0m",
      "\u001b[0;32m~/anaconda3/envs/crypto_time_series/lib/python3.6/site-packages/tensorflow/python/keras/engine/training.py\u001b[0m in \u001b[0;36mfit\u001b[0;34m(self, x, y, batch_size, epochs, verbose, callbacks, validation_split, validation_data, shuffle, class_weight, sample_weight, initial_epoch, steps_per_epoch, validation_steps, max_queue_size, workers, use_multiprocessing, **kwargs)\u001b[0m\n\u001b[1;32m   1534\u001b[0m         \u001b[0msteps_name\u001b[0m\u001b[0;34m=\u001b[0m\u001b[0;34m'steps_per_epoch'\u001b[0m\u001b[0;34m,\u001b[0m\u001b[0;34m\u001b[0m\u001b[0;34m\u001b[0m\u001b[0m\n\u001b[1;32m   1535\u001b[0m         \u001b[0msteps\u001b[0m\u001b[0;34m=\u001b[0m\u001b[0msteps_per_epoch\u001b[0m\u001b[0;34m,\u001b[0m\u001b[0;34m\u001b[0m\u001b[0;34m\u001b[0m\u001b[0m\n\u001b[0;32m-> 1536\u001b[0;31m         validation_split=validation_split)\n\u001b[0m\u001b[1;32m   1537\u001b[0m \u001b[0;34m\u001b[0m\u001b[0m\n\u001b[1;32m   1538\u001b[0m     \u001b[0;31m# Prepare validation data.\u001b[0m\u001b[0;34m\u001b[0m\u001b[0;34m\u001b[0m\u001b[0;34m\u001b[0m\u001b[0m\n",
      "\u001b[0;32m~/anaconda3/envs/crypto_time_series/lib/python3.6/site-packages/tensorflow/python/keras/engine/training.py\u001b[0m in \u001b[0;36m_standardize_user_data\u001b[0;34m(self, x, y, sample_weight, class_weight, batch_size, check_steps, steps_name, steps, validation_split)\u001b[0m\n\u001b[1;32m    990\u001b[0m         \u001b[0mx\u001b[0m\u001b[0;34m,\u001b[0m \u001b[0my\u001b[0m\u001b[0;34m,\u001b[0m \u001b[0msample_weight\u001b[0m \u001b[0;34m=\u001b[0m \u001b[0mnext_element\u001b[0m\u001b[0;34m\u001b[0m\u001b[0;34m\u001b[0m\u001b[0m\n\u001b[1;32m    991\u001b[0m     x, y, sample_weights = self._standardize_weights(x, y, sample_weight,\n\u001b[0;32m--> 992\u001b[0;31m                                                      class_weight, batch_size)\n\u001b[0m\u001b[1;32m    993\u001b[0m     \u001b[0;32mreturn\u001b[0m \u001b[0mx\u001b[0m\u001b[0;34m,\u001b[0m \u001b[0my\u001b[0m\u001b[0;34m,\u001b[0m \u001b[0msample_weights\u001b[0m\u001b[0;34m\u001b[0m\u001b[0;34m\u001b[0m\u001b[0m\n\u001b[1;32m    994\u001b[0m \u001b[0;34m\u001b[0m\u001b[0m\n",
      "\u001b[0;32m~/anaconda3/envs/crypto_time_series/lib/python3.6/site-packages/tensorflow/python/keras/engine/training.py\u001b[0m in \u001b[0;36m_standardize_weights\u001b[0;34m(self, x, y, sample_weight, class_weight, batch_size)\u001b[0m\n\u001b[1;32m   1167\u001b[0m       \u001b[0;31m# Check that all arrays have the same length.\u001b[0m\u001b[0;34m\u001b[0m\u001b[0;34m\u001b[0m\u001b[0;34m\u001b[0m\u001b[0m\n\u001b[1;32m   1168\u001b[0m       \u001b[0;32mif\u001b[0m \u001b[0;32mnot\u001b[0m \u001b[0mself\u001b[0m\u001b[0;34m.\u001b[0m\u001b[0m_distribution_strategy\u001b[0m\u001b[0;34m:\u001b[0m\u001b[0;34m\u001b[0m\u001b[0;34m\u001b[0m\u001b[0m\n\u001b[0;32m-> 1169\u001b[0;31m         \u001b[0mtraining_utils\u001b[0m\u001b[0;34m.\u001b[0m\u001b[0mcheck_array_lengths\u001b[0m\u001b[0;34m(\u001b[0m\u001b[0mx\u001b[0m\u001b[0;34m,\u001b[0m \u001b[0my\u001b[0m\u001b[0;34m,\u001b[0m \u001b[0msample_weights\u001b[0m\u001b[0;34m)\u001b[0m\u001b[0;34m\u001b[0m\u001b[0;34m\u001b[0m\u001b[0m\n\u001b[0m\u001b[1;32m   1170\u001b[0m         \u001b[0;32mif\u001b[0m \u001b[0mself\u001b[0m\u001b[0;34m.\u001b[0m\u001b[0m_is_graph_network\u001b[0m \u001b[0;32mand\u001b[0m \u001b[0;32mnot\u001b[0m \u001b[0mcontext\u001b[0m\u001b[0;34m.\u001b[0m\u001b[0mexecuting_eagerly\u001b[0m\u001b[0;34m(\u001b[0m\u001b[0;34m)\u001b[0m\u001b[0;34m:\u001b[0m\u001b[0;34m\u001b[0m\u001b[0;34m\u001b[0m\u001b[0m\n\u001b[1;32m   1171\u001b[0m           \u001b[0;31m# Additional checks to avoid users mistakenly using improper loss fns.\u001b[0m\u001b[0;34m\u001b[0m\u001b[0;34m\u001b[0m\u001b[0;34m\u001b[0m\u001b[0m\n",
      "\u001b[0;32m~/anaconda3/envs/crypto_time_series/lib/python3.6/site-packages/tensorflow/python/keras/engine/training_utils.py\u001b[0m in \u001b[0;36mcheck_array_lengths\u001b[0;34m(inputs, targets, weights)\u001b[0m\n\u001b[1;32m    424\u001b[0m                      \u001b[0;34m'the same number of samples as target arrays. '\u001b[0m\u001b[0;34m\u001b[0m\u001b[0;34m\u001b[0m\u001b[0m\n\u001b[1;32m    425\u001b[0m                      \u001b[0;34m'Found '\u001b[0m \u001b[0;34m+\u001b[0m \u001b[0mstr\u001b[0m\u001b[0;34m(\u001b[0m\u001b[0mlist\u001b[0m\u001b[0;34m(\u001b[0m\u001b[0mset_x\u001b[0m\u001b[0;34m)\u001b[0m\u001b[0;34m[\u001b[0m\u001b[0;36m0\u001b[0m\u001b[0;34m]\u001b[0m\u001b[0;34m)\u001b[0m \u001b[0;34m+\u001b[0m \u001b[0;34m' input samples '\u001b[0m\u001b[0;34m\u001b[0m\u001b[0;34m\u001b[0m\u001b[0m\n\u001b[0;32m--> 426\u001b[0;31m                      'and ' + str(list(set_y)[0]) + ' target samples.')\n\u001b[0m\u001b[1;32m    427\u001b[0m   \u001b[0;32mif\u001b[0m \u001b[0mlen\u001b[0m\u001b[0;34m(\u001b[0m\u001b[0mset_w\u001b[0m\u001b[0;34m)\u001b[0m \u001b[0;34m>\u001b[0m \u001b[0;36m1\u001b[0m\u001b[0;34m:\u001b[0m\u001b[0;34m\u001b[0m\u001b[0;34m\u001b[0m\u001b[0m\n\u001b[1;32m    428\u001b[0m     raise ValueError('All sample_weight arrays should have '\n",
      "\u001b[0;31mValueError\u001b[0m: Input arrays should have the same number of samples as target arrays. Found 85151 input samples and 67280 target samples."
     ]
    }
   ],
   "source": [
    "nn_model.fit(X_train_nn, y_train, epochs=3, verbose=True, \n",
    "             batch_size=5000, validation_data=(X_val_nn, y_val))"
   ]
  },
  {
   "cell_type": "code",
   "execution_count": null,
   "metadata": {
    "collapsed": true
   },
   "outputs": [],
   "source": [
    "loss, accuracy = nn_model.evaluate(X_train_vec, y_train)\n",
    "print(f\"Training Acc: {accuracy}\")\n",
    "loss, accuracy = nn_model.evaluate(X_test_vec, y_test)\n",
    "print(f\"Training Acc: {accuracy}\")"
   ]
  },
  {
   "cell_type": "markdown",
   "metadata": {},
   "source": [
    "### Advance Feature Engineering - Word2Vec and Simple Neural Network"
   ]
  },
  {
   "cell_type": "code",
   "execution_count": 39,
   "metadata": {},
   "outputs": [
    {
     "data": {
      "text/html": [
       "<div>\n",
       "<style scoped>\n",
       "    .dataframe tbody tr th:only-of-type {\n",
       "        vertical-align: middle;\n",
       "    }\n",
       "\n",
       "    .dataframe tbody tr th {\n",
       "        vertical-align: top;\n",
       "    }\n",
       "\n",
       "    .dataframe thead th {\n",
       "        text-align: right;\n",
       "    }\n",
       "</style>\n",
       "<table border=\"1\" class=\"dataframe\">\n",
       "  <thead>\n",
       "    <tr style=\"text-align: right;\">\n",
       "      <th></th>\n",
       "      <th>blurb</th>\n",
       "      <th>country</th>\n",
       "      <th>state</th>\n",
       "    </tr>\n",
       "  </thead>\n",
       "  <tbody>\n",
       "    <tr>\n",
       "      <th>0</th>\n",
       "      <td>Angular is a minimalist card design for simpli...</td>\n",
       "      <td>US</td>\n",
       "      <td>0</td>\n",
       "    </tr>\n",
       "    <tr>\n",
       "      <th>1</th>\n",
       "      <td>Original songs and music videos to jump start ...</td>\n",
       "      <td>US</td>\n",
       "      <td>0</td>\n",
       "    </tr>\n",
       "    <tr>\n",
       "      <th>2</th>\n",
       "      <td>Our project is to launch a vegan lunch deliver...</td>\n",
       "      <td>CA</td>\n",
       "      <td>0</td>\n",
       "    </tr>\n",
       "    <tr>\n",
       "      <th>3</th>\n",
       "      <td>I have developed a process of my own which tra...</td>\n",
       "      <td>US</td>\n",
       "      <td>1</td>\n",
       "    </tr>\n",
       "    <tr>\n",
       "      <th>4</th>\n",
       "      <td>Need to pay an illustrator to bring my childre...</td>\n",
       "      <td>GB</td>\n",
       "      <td>0</td>\n",
       "    </tr>\n",
       "  </tbody>\n",
       "</table>\n",
       "</div>"
      ],
      "text/plain": [
       "                                               blurb country  state\n",
       "0  Angular is a minimalist card design for simpli...      US      0\n",
       "1  Original songs and music videos to jump start ...      US      0\n",
       "2  Our project is to launch a vegan lunch deliver...      CA      0\n",
       "3  I have developed a process of my own which tra...      US      1\n",
       "4  Need to pay an illustrator to bring my childre...      GB      0"
      ]
     },
     "execution_count": 39,
     "metadata": {},
     "output_type": "execute_result"
    }
   ],
   "source": [
    "df_text_c = df_text.copy()\n",
    "df_text_c.head()"
   ]
  },
  {
   "cell_type": "markdown",
   "metadata": {},
   "source": [
    "Main steps:\n",
    "1. Remove all non-alphabetic characters.\n",
    "2. Make all character lowercase.\n",
    "3. Based on the country, apply a different corpus to each, using language corpuses from nltk.corpus.sysnet. - The major issue with this is that much of the sample text from other countries also contains English words in it.\n",
    "4. Remove stop words for each country also.\n",
    "5. Lemmatize english words.\n",
    "6. Tokenise sentences. \n",
    "7. Create word embeddings using Word2Vec using Gensim. Then perform the classification task a simple Neural Network and CNN."
   ]
  },
  {
   "cell_type": "code",
   "execution_count": 40,
   "metadata": {},
   "outputs": [
    {
     "data": {
      "text/html": [
       "<div>\n",
       "<style scoped>\n",
       "    .dataframe tbody tr th:only-of-type {\n",
       "        vertical-align: middle;\n",
       "    }\n",
       "\n",
       "    .dataframe tbody tr th {\n",
       "        vertical-align: top;\n",
       "    }\n",
       "\n",
       "    .dataframe thead th {\n",
       "        text-align: right;\n",
       "    }\n",
       "</style>\n",
       "<table border=\"1\" class=\"dataframe\">\n",
       "  <thead>\n",
       "    <tr style=\"text-align: right;\">\n",
       "      <th></th>\n",
       "      <th>blurb</th>\n",
       "      <th>country</th>\n",
       "      <th>state</th>\n",
       "    </tr>\n",
       "  </thead>\n",
       "  <tbody>\n",
       "    <tr>\n",
       "      <th>0</th>\n",
       "      <td>angular is a minimalist card design for simpli...</td>\n",
       "      <td>US</td>\n",
       "      <td>0</td>\n",
       "    </tr>\n",
       "    <tr>\n",
       "      <th>1</th>\n",
       "      <td>original songs and music videos to jump start ...</td>\n",
       "      <td>US</td>\n",
       "      <td>0</td>\n",
       "    </tr>\n",
       "    <tr>\n",
       "      <th>2</th>\n",
       "      <td>our project is to launch a vegan lunch deliver...</td>\n",
       "      <td>CA</td>\n",
       "      <td>0</td>\n",
       "    </tr>\n",
       "    <tr>\n",
       "      <th>3</th>\n",
       "      <td>i have developed a process of my own which tra...</td>\n",
       "      <td>US</td>\n",
       "      <td>1</td>\n",
       "    </tr>\n",
       "    <tr>\n",
       "      <th>4</th>\n",
       "      <td>need to pay an illustrator to bring my childre...</td>\n",
       "      <td>GB</td>\n",
       "      <td>0</td>\n",
       "    </tr>\n",
       "  </tbody>\n",
       "</table>\n",
       "</div>"
      ],
      "text/plain": [
       "                                               blurb country  state\n",
       "0  angular is a minimalist card design for simpli...      US      0\n",
       "1  original songs and music videos to jump start ...      US      0\n",
       "2  our project is to launch a vegan lunch deliver...      CA      0\n",
       "3  i have developed a process of my own which tra...      US      1\n",
       "4  need to pay an illustrator to bring my childre...      GB      0"
      ]
     },
     "execution_count": 40,
     "metadata": {},
     "output_type": "execute_result"
    }
   ],
   "source": [
    "df_text_c.loc[:, \"blurb\"] = df_text_c.blurb.apply(filter_alpha_and_lower)\n",
    "df_text_c.head()"
   ]
  },
  {
   "cell_type": "code",
   "execution_count": 41,
   "metadata": {},
   "outputs": [
    {
     "data": {
      "text/plain": [
       "country\n",
       "AT       91\n",
       "AU     1854\n",
       "BE      141\n",
       "CA     3693\n",
       "CH      134\n",
       "DE      781\n",
       "DK      253\n",
       "ES      415\n",
       "FR      554\n",
       "GB     8580\n",
       "HK       46\n",
       "IE      171\n",
       "IT      534\n",
       "LU       15\n",
       "MX      245\n",
       "NL      596\n",
       "NO      178\n",
       "NZ      369\n",
       "SE      444\n",
       "SG       65\n",
       "US    85967\n",
       "Name: blurb, dtype: int64"
      ]
     },
     "execution_count": 41,
     "metadata": {},
     "output_type": "execute_result"
    }
   ],
   "source": [
    "df_text_c.groupby(\"country\").count().blurb"
   ]
  },
  {
   "cell_type": "code",
   "execution_count": 42,
   "metadata": {},
   "outputs": [
    {
     "data": {
      "text/plain": [
       "'hardrocker'"
      ]
     },
     "execution_count": 42,
     "metadata": {},
     "output_type": "execute_result"
    }
   ],
   "source": [
    "from nltk.stem import WordNetLemmatizer\n",
    "wnl = WordNetLemmatizer()\n",
    "wnl.lemmatize('hardrocker')"
   ]
  },
  {
   "cell_type": "code",
   "execution_count": 43,
   "metadata": {},
   "outputs": [
    {
     "name": "stderr",
     "output_type": "stream",
     "text": [
      "[nltk_data] Downloading package stopwords to\n",
      "[nltk_data]     /Users/rajatrasal/nltk_data...\n",
      "[nltk_data]   Package stopwords is already up-to-date!\n",
      "[nltk_data] Downloading package wordnet to\n",
      "[nltk_data]     /Users/rajatrasal/nltk_data...\n",
      "[nltk_data]   Package wordnet is already up-to-date!\n"
     ]
    }
   ],
   "source": [
    "from functools import partial\n",
    "from nltk.corpus import stopwords\n",
    "from nltk.stem import WordNetLemmatizer\n",
    "nltk.download('stopwords')\n",
    "nltk.download('wordnet')\n",
    "\n",
    "wnl = WordNetLemmatizer()\n",
    "\n",
    "# There is no german corpus available in nltk.corpus.sysnet.wordnet.\n",
    "corpus_country_map = {'IT': ['ita', 'italian'], \n",
    "                      'MX': ['spa', 'spanish'],\n",
    "                      'ES': ['spa', 'spanish'], \n",
    "                      'FRA': ['fra', 'french'],\n",
    "                      'BE': ['fra', 'french'],\n",
    "                      'CA': ['fra', 'french']}\n",
    "\n",
    "count = 0\n",
    "\n",
    "def split_row_by_corpus(words, sysnet_lang='eng', stopwords_lang='english'):\n",
    "    clean_words = []\n",
    "    \n",
    "    for word in words:\n",
    "        if wn.synsets(word, lang=sysnet_lang):  # Check word in language corpus\n",
    "            if word not in stopwords.words(stopwords_lang):  # Removing stop words\n",
    "                clean_words.append(word)\n",
    "                \n",
    "    return clean_words\n",
    "\n",
    "def apply_corpus_by_country(row):\n",
    "    # global count\n",
    "    split_row = re.split(r\"[^a-zA-Z]+\", row.blurb)\n",
    "    \n",
    "    split_row_func = partial(split_row_by_corpus, split_row)\n",
    "    \n",
    "    if row.country == 'US' or row.country == 'GB':\n",
    "        split_row = split_row_func()\n",
    "    elif row.country in corpus_country_map:\n",
    "        eng_split_row = split_row_func()\n",
    "        other_split_row = split_row_func(*corpus_country_map[row.country])\n",
    "        # Even if the country is not GB or US, the blurb might still\n",
    "        # be written in english\n",
    "        if len(eng_split_row) > len(other_split_row):\n",
    "            split_row = eng_split_row\n",
    "        else:\n",
    "            split_row = other_split_row\n",
    "    else:\n",
    "        pass\n",
    "    # print(count, end=\", \")\n",
    "    # count += 1\n",
    "\n",
    "    return \" \".join(split_row)\n",
    "\n",
    "\n",
    "df_text_features = df_text_c.loc[:, [\"blurb\", \"country\"]]\n",
    "df_text_c.blurb = df_text_features.apply(apply_corpus_by_country, axis=1)"
   ]
  },
  {
   "cell_type": "code",
   "execution_count": 44,
   "metadata": {},
   "outputs": [
    {
     "data": {
      "text/html": [
       "<div>\n",
       "<style scoped>\n",
       "    .dataframe tbody tr th:only-of-type {\n",
       "        vertical-align: middle;\n",
       "    }\n",
       "\n",
       "    .dataframe tbody tr th {\n",
       "        vertical-align: top;\n",
       "    }\n",
       "\n",
       "    .dataframe thead th {\n",
       "        text-align: right;\n",
       "    }\n",
       "</style>\n",
       "<table border=\"1\" class=\"dataframe\">\n",
       "  <thead>\n",
       "    <tr style=\"text-align: right;\">\n",
       "      <th></th>\n",
       "      <th>blurb</th>\n",
       "      <th>country</th>\n",
       "      <th>state</th>\n",
       "    </tr>\n",
       "  </thead>\n",
       "  <tbody>\n",
       "    <tr>\n",
       "      <th>0</th>\n",
       "      <td>angular minimalist card design simplicity symm...</td>\n",
       "      <td>US</td>\n",
       "      <td>0</td>\n",
       "    </tr>\n",
       "    <tr>\n",
       "      <th>1</th>\n",
       "      <td>original songs music videos jump start core wo...</td>\n",
       "      <td>US</td>\n",
       "      <td>0</td>\n",
       "    </tr>\n",
       "    <tr>\n",
       "      <th>2</th>\n",
       "      <td>project launch vegan lunch delivery service va...</td>\n",
       "      <td>CA</td>\n",
       "      <td>0</td>\n",
       "    </tr>\n",
       "    <tr>\n",
       "      <th>3</th>\n",
       "      <td>developed process transfers photographic image...</td>\n",
       "      <td>US</td>\n",
       "      <td>1</td>\n",
       "    </tr>\n",
       "    <tr>\n",
       "      <th>4</th>\n",
       "      <td>need pay illustrator bring children book life ...</td>\n",
       "      <td>GB</td>\n",
       "      <td>0</td>\n",
       "    </tr>\n",
       "    <tr>\n",
       "      <th>5</th>\n",
       "      <td>disassembling is a colouring book full of diss...</td>\n",
       "      <td>AU</td>\n",
       "      <td>1</td>\n",
       "    </tr>\n",
       "    <tr>\n",
       "      <th>6</th>\n",
       "      <td>night planning releasing next full length stud...</td>\n",
       "      <td>US</td>\n",
       "      <td>1</td>\n",
       "    </tr>\n",
       "    <tr>\n",
       "      <th>7</th>\n",
       "      <td>super deluxe slapstick action pc create combat...</td>\n",
       "      <td>US</td>\n",
       "      <td>1</td>\n",
       "    </tr>\n",
       "    <tr>\n",
       "      <th>8</th>\n",
       "      <td>blind box one kind collectible sculptures insp...</td>\n",
       "      <td>US</td>\n",
       "      <td>1</td>\n",
       "    </tr>\n",
       "    <tr>\n",
       "      <th>9</th>\n",
       "      <td>practice tool help creative confident experien...</td>\n",
       "      <td>US</td>\n",
       "      <td>1</td>\n",
       "    </tr>\n",
       "    <tr>\n",
       "      <th>10</th>\n",
       "      <td>video series explore thirteen common recurring...</td>\n",
       "      <td>US</td>\n",
       "      <td>0</td>\n",
       "    </tr>\n",
       "    <tr>\n",
       "      <th>11</th>\n",
       "      <td>collins seem get enough killing work fun games...</td>\n",
       "      <td>US</td>\n",
       "      <td>0</td>\n",
       "    </tr>\n",
       "    <tr>\n",
       "      <th>12</th>\n",
       "      <td>story love love love music</td>\n",
       "      <td>US</td>\n",
       "      <td>1</td>\n",
       "    </tr>\n",
       "    <tr>\n",
       "      <th>13</th>\n",
       "      <td>family circle music sampled major artist game ...</td>\n",
       "      <td>US</td>\n",
       "      <td>0</td>\n",
       "    </tr>\n",
       "    <tr>\n",
       "      <th>14</th>\n",
       "      <td>antenna got destroyed rain</td>\n",
       "      <td>US</td>\n",
       "      <td>0</td>\n",
       "    </tr>\n",
       "    <tr>\n",
       "      <th>15</th>\n",
       "      <td>help us launch series collectable books celebr...</td>\n",
       "      <td>GB</td>\n",
       "      <td>1</td>\n",
       "    </tr>\n",
       "    <tr>\n",
       "      <th>16</th>\n",
       "      <td>bringing award winning documentary h p back ray</td>\n",
       "      <td>US</td>\n",
       "      <td>1</td>\n",
       "    </tr>\n",
       "    <tr>\n",
       "      <th>17</th>\n",
       "      <td>music masses funny bone</td>\n",
       "      <td>US</td>\n",
       "      <td>0</td>\n",
       "    </tr>\n",
       "    <tr>\n",
       "      <th>18</th>\n",
       "      <td>creating extensive guide educate parents aspir...</td>\n",
       "      <td>US</td>\n",
       "      <td>0</td>\n",
       "    </tr>\n",
       "    <tr>\n",
       "      <th>19</th>\n",
       "      <td>unique kickstarter rewards real chocolate vodk...</td>\n",
       "      <td>IE</td>\n",
       "      <td>0</td>\n",
       "    </tr>\n",
       "  </tbody>\n",
       "</table>\n",
       "</div>"
      ],
      "text/plain": [
       "                                                blurb country  state\n",
       "0   angular minimalist card design simplicity symm...      US      0\n",
       "1   original songs music videos jump start core wo...      US      0\n",
       "2   project launch vegan lunch delivery service va...      CA      0\n",
       "3   developed process transfers photographic image...      US      1\n",
       "4   need pay illustrator bring children book life ...      GB      0\n",
       "5   disassembling is a colouring book full of diss...      AU      1\n",
       "6   night planning releasing next full length stud...      US      1\n",
       "7   super deluxe slapstick action pc create combat...      US      1\n",
       "8   blind box one kind collectible sculptures insp...      US      1\n",
       "9   practice tool help creative confident experien...      US      1\n",
       "10  video series explore thirteen common recurring...      US      0\n",
       "11  collins seem get enough killing work fun games...      US      0\n",
       "12                         story love love love music      US      1\n",
       "13  family circle music sampled major artist game ...      US      0\n",
       "14                         antenna got destroyed rain      US      0\n",
       "15  help us launch series collectable books celebr...      GB      1\n",
       "16    bringing award winning documentary h p back ray      US      1\n",
       "17                            music masses funny bone      US      0\n",
       "18  creating extensive guide educate parents aspir...      US      0\n",
       "19  unique kickstarter rewards real chocolate vodk...      IE      0"
      ]
     },
     "execution_count": 44,
     "metadata": {},
     "output_type": "execute_result"
    }
   ],
   "source": [
    "df_text_c.head(20)"
   ]
  },
  {
   "cell_type": "code",
   "execution_count": 254,
   "metadata": {},
   "outputs": [
    {
     "data": {
      "text/plain": [
       "'(84100,), (84100,), (21026,), (21026,)'"
      ]
     },
     "execution_count": 254,
     "metadata": {},
     "output_type": "execute_result"
    }
   ],
   "source": [
    "train_size = int(len(df_text) * 0.8)\n",
    "\n",
    "train, test = df_text_c.iloc[:train_size, :], df_text_c.iloc[train_size:, :]\n",
    "X_train, y_train = train.blurb, train.state\n",
    "X_test, y_test = test.blurb, test.state\n",
    "\n",
    "np.save(open(\"./data/nn_X_train.npy\", \"wb\"), X_train)\n",
    "np.save(open(\"./data/nn_y_train.npy\", \"wb\"), y_train)\n",
    "np.save(open(\"./data/nn_X_test.npy\", \"wb\"), X_test)\n",
    "np.save(open(\"./data/nn_y_test.npy\", \"wb\"), y_test)\n",
    "\n",
    "f\"{X_train.shape}, {y_train.shape}, {X_test.shape}, {y_test.shape}\""
   ]
  },
  {
   "cell_type": "code",
   "execution_count": 206,
   "metadata": {},
   "outputs": [
    {
     "data": {
      "text/plain": [
       "'X_train: (67280,), y_train: (67280,), X_val: (16820,), y_val: (16820,)'"
      ]
     },
     "execution_count": 206,
     "metadata": {},
     "output_type": "execute_result"
    }
   ],
   "source": [
    "train_size = int(len(X_train) * 0.8)\n",
    "\n",
    "X_train2, y_train2 = X_train.iloc[:train_size], y_train.iloc[:train_size]\n",
    "X_val, y_val = X_train.iloc[train_size:], y_train.iloc[train_size:]\n",
    "\n",
    "X_train = X_train2\n",
    "y_train = y_train2\n",
    "\n",
    "f\"X_train: {X_train.shape}, y_train: {y_train.shape}, X_val: {X_val.shape}, y_val: {y_val.shape}\""
   ]
  },
  {
   "cell_type": "code",
   "execution_count": 207,
   "metadata": {
    "collapsed": true
   },
   "outputs": [],
   "source": [
    "# def stemmer(sentence):\n",
    "#     # if the country is US or GB stem each word\n",
    "#     # else - stem \n",
    "#     global wnl\n",
    "#     return [wnl.lemmatize(w) for w in words] if b else words"
   ]
  },
  {
   "cell_type": "code",
   "execution_count": 208,
   "metadata": {},
   "outputs": [
    {
     "data": {
      "text/plain": [
       "[['angular',\n",
       "  'minimalist',\n",
       "  'card',\n",
       "  'design',\n",
       "  'simplicity',\n",
       "  'symmetry',\n",
       "  'style',\n",
       "  'derived',\n",
       "  'principles',\n",
       "  'today',\n",
       "  'art'],\n",
       " ['original',\n",
       "  'songs',\n",
       "  'music',\n",
       "  'videos',\n",
       "  'jump',\n",
       "  'start',\n",
       "  'core',\n",
       "  'world',\n",
       "  'tour'],\n",
       " ['project',\n",
       "  'launch',\n",
       "  'vegan',\n",
       "  'lunch',\n",
       "  'delivery',\n",
       "  'service',\n",
       "  'vancouver',\n",
       "  'bc',\n",
       "  'vegans',\n",
       "  'deserve',\n",
       "  'convenience',\n",
       "  'nutritious',\n",
       "  'food',\n",
       "  'delivered'],\n",
       " ['developed',\n",
       "  'process',\n",
       "  'transfers',\n",
       "  'photographic',\n",
       "  'image',\n",
       "  'galvanized',\n",
       "  'steel',\n",
       "  'etching',\n",
       "  'plating'],\n",
       " ['need',\n",
       "  'pay',\n",
       "  'illustrator',\n",
       "  'bring',\n",
       "  'children',\n",
       "  'book',\n",
       "  'life',\n",
       "  'see',\n",
       "  'needs',\n",
       "  'bit',\n",
       "  'help']]"
      ]
     },
     "execution_count": 208,
     "metadata": {},
     "output_type": "execute_result"
    }
   ],
   "source": [
    "blurb_tokens = []\n",
    "\n",
    "for blurb in df_text_c.blurb:\n",
    "    blurb_tokens.append(blurb.split(\" \"))\n",
    "\n",
    "blurb_tokens[:5]"
   ]
  },
  {
   "cell_type": "code",
   "execution_count": 209,
   "metadata": {},
   "outputs": [
    {
     "data": {
      "text/plain": [
       "[('man', 0.9237178564071655),\n",
       " ('couple', 0.8785586953163147),\n",
       " ('discovers', 0.8493130207061768),\n",
       " ('girl', 0.833949863910675),\n",
       " ('mans', 0.8303358554840088),\n",
       " ('boy', 0.8261323571205139),\n",
       " ('mother', 0.8125340938568115),\n",
       " ('becomes', 0.8096308708190918),\n",
       " ('survivor', 0.7990708351135254),\n",
       " ('finds', 0.7985364198684692)]"
      ]
     },
     "execution_count": 209,
     "metadata": {},
     "output_type": "execute_result"
    }
   ],
   "source": [
    "from gensim.models import Word2Vec\n",
    "\n",
    "vector_dim = 100\n",
    "word2vec = Word2Vec(blurb_tokens, window=3, min_count=2, size=vector_dim)\n",
    "word2vec.most_similar(\"woman\")"
   ]
  },
  {
   "cell_type": "code",
   "execution_count": 210,
   "metadata": {},
   "outputs": [
    {
     "name": "stdout",
     "output_type": "stream",
     "text": [
      "Found 25277 word vectors.\n"
     ]
    }
   ],
   "source": [
    "embeddings_index = {}\n",
    "\n",
    "for word in word2vec.wv.vocab.keys():\n",
    "    embeddings_index[word] = word2vec.wv[word]\n",
    "\n",
    "print(f\"Found {len(embeddings_index)} word vectors.\")"
   ]
  },
  {
   "cell_type": "code",
   "execution_count": 211,
   "metadata": {},
   "outputs": [],
   "source": [
    "embeddings_index.get('angular')"
   ]
  },
  {
   "cell_type": "code",
   "execution_count": 212,
   "metadata": {},
   "outputs": [
    {
     "data": {
      "text/plain": [
       "[[20942, 1438, 128, 110, 3283, 20943, 107, 8052, 4530, 351, 11],\n",
       " [44, 47, 4, 380, 2242, 117, 2422, 6, 120],\n",
       " [17,\n",
       "  370,\n",
       "  768,\n",
       "  2348,\n",
       "  2071,\n",
       "  720,\n",
       "  3517,\n",
       "  4394,\n",
       "  11049,\n",
       "  2652,\n",
       "  6019,\n",
       "  4395,\n",
       "  50,\n",
       "  1694],\n",
       " [1416, 427, 13991, 1061, 1245, 20944, 1162, 8595, 11050],\n",
       " [15, 632, 2096, 42, 37, 5, 10, 186, 94, 792, 1]]"
      ]
     },
     "execution_count": 212,
     "metadata": {},
     "output_type": "execute_result"
    }
   ],
   "source": [
    "from keras.preprocessing.text import Tokenizer\n",
    "from keras.preprocessing.sequence import pad_sequences\n",
    "\n",
    "tokenizer = Tokenizer(num_words=100000)\n",
    "tokenizer.fit_on_texts(X_train)\n",
    "sequences_train = tokenizer.texts_to_sequences(X_train)\n",
    "sequences_val = tokenizer.texts_to_sequences(X_val)\n",
    "sequences_train[:5]"
   ]
  },
  {
   "cell_type": "code",
   "execution_count": 213,
   "metadata": {},
   "outputs": [
    {
     "data": {
      "text/plain": [
       "32"
      ]
     },
     "execution_count": 213,
     "metadata": {},
     "output_type": "execute_result"
    }
   ],
   "source": [
    "max([len(x) for x in sequences])"
   ]
  },
  {
   "cell_type": "code",
   "execution_count": 214,
   "metadata": {},
   "outputs": [
    {
     "data": {
      "text/plain": [
       "True"
      ]
     },
     "execution_count": 214,
     "metadata": {},
     "output_type": "execute_result"
    }
   ],
   "source": [
    "len(sequences_train[0]) == len(blurb_tokens[0])"
   ]
  },
  {
   "cell_type": "code",
   "execution_count": 215,
   "metadata": {},
   "outputs": [
    {
     "name": "stdout",
     "output_type": "stream",
     "text": [
      "Shape of training tensor: (67280, 35)\n",
      "Shape of validation tensor: (16820, 35)\n"
     ]
    },
    {
     "data": {
      "text/plain": [
       "array([[    0,     0,     0,     0,     0,     0,     0,     0,     0,\n",
       "            0,     0,     0,     0,     0,     0,     0,     0,     0,\n",
       "            0,     0,     0,     0,     0,     0, 20942,  1438,   128,\n",
       "          110,  3283, 20943,   107,  8052,  4530,   351,    11],\n",
       "       [    0,     0,     0,     0,     0,     0,     0,     0,     0,\n",
       "            0,     0,     0,     0,     0,     0,     0,     0,     0,\n",
       "            0,     0,     0,     0,     0,     0,     0,     0,    44,\n",
       "           47,     4,   380,  2242,   117,  2422,     6,   120],\n",
       "       [    0,     0,     0,     0,     0,     0,     0,     0,     0,\n",
       "            0,     0,     0,     0,     0,     0,     0,     0,     0,\n",
       "            0,     0,     0,    17,   370,   768,  2348,  2071,   720,\n",
       "         3517,  4394, 11049,  2652,  6019,  4395,    50,  1694],\n",
       "       [    0,     0,     0,     0,     0,     0,     0,     0,     0,\n",
       "            0,     0,     0,     0,     0,     0,     0,     0,     0,\n",
       "            0,     0,     0,     0,     0,     0,     0,     0,  1416,\n",
       "          427, 13991,  1061,  1245, 20944,  1162,  8595, 11050],\n",
       "       [    0,     0,     0,     0,     0,     0,     0,     0,     0,\n",
       "            0,     0,     0,     0,     0,     0,     0,     0,     0,\n",
       "            0,     0,     0,     0,     0,     0,    15,   632,  2096,\n",
       "           42,    37,     5,    10,   186,    94,   792,     1]],\n",
       "      dtype=int32)"
      ]
     },
     "execution_count": 215,
     "metadata": {},
     "output_type": "execute_result"
    }
   ],
   "source": [
    "word_vector_dim = 35\n",
    "X_train_seq = pad_sequences(sequences_train, maxlen=word_vector_dim)\n",
    "X_val_seq = pad_sequences(sequences_val, maxlen=word_vector_dim)\n",
    "print('Shape of training tensor:', X_train_seq.shape)\n",
    "print('Shape of validation tensor:', X_val_seq.shape)\n",
    "X_train_seq[:5]"
   ]
  },
  {
   "cell_type": "code",
   "execution_count": 216,
   "metadata": {},
   "outputs": [
    {
     "name": "stdout",
     "output_type": "stream",
     "text": [
      "embeddings matrix shape: (34601, 100)\n"
     ]
    }
   ],
   "source": [
    "num_words = len(tokenizer.word_index) + 1\n",
    "embeddings_matrix = np.zeros((num_words, vector_dim))\n",
    "for word, i in tokenizer.word_index.items():\n",
    "    if i >= num_words:\n",
    "        print(word, i)\n",
    "        continue\n",
    "    embedding_vector = embeddings_index.get(word)\n",
    "    if embedding_vector is not None:\n",
    "        embeddings_matrix[i] = embedding_vector\n",
    "print(f\"embeddings matrix shape: {embeddings_matrix.shape}\")"
   ]
  },
  {
   "cell_type": "markdown",
   "metadata": {},
   "source": [
    "We can do a sanity check to see if our embeddings matrix works as expected. The word \"minimalist\" exists more than once in the corpus which is why it is present in the embeddings_index, since the ```Word2Vec``` model has ```min_count=2``` as an argument.\n",
    "\n",
    "\"Minimalist\" is encoded as 1458, so 1458th embedding in the embedding matrix should be the embedding vector for the word \"minimalist\"."
   ]
  },
  {
   "cell_type": "code",
   "execution_count": 217,
   "metadata": {},
   "outputs": [
    {
     "data": {
      "text/plain": [
       "array([ 1.0315306 , -0.40899172, -0.36170828, -0.27019477, -0.22644345,\n",
       "        0.01109254, -0.10772682, -0.38952208, -0.51208115,  0.01213516,\n",
       "       -1.2058303 , -0.26172122, -0.3123412 , -0.72017425,  0.93055344,\n",
       "       -0.91616076,  0.52853763,  0.0145657 , -0.19217683, -0.02819219,\n",
       "        0.3704908 , -0.4292066 , -0.04220184,  0.27069706,  0.72623205,\n",
       "       -0.34358293,  0.39513558,  0.49910006,  0.5119326 , -0.29844648,\n",
       "        0.10104945,  0.26400056,  0.4208889 ,  0.06699578,  0.20451102,\n",
       "        0.1529085 ,  0.4660604 ,  0.1993793 ,  0.3271814 , -0.6944339 ,\n",
       "        0.11613217,  0.41952422, -0.14570504,  0.59444374, -0.9524133 ,\n",
       "        0.5000672 ,  0.44519195,  0.33549047,  0.2726839 , -0.22254805,\n",
       "       -0.17940284, -0.87622184, -0.56386054, -0.28825778, -0.66566813,\n",
       "       -0.18089487, -0.14201058, -0.38691983,  0.44095948,  0.2001744 ,\n",
       "        0.25573054, -0.9100739 ,  0.02090381,  0.4148708 ,  0.45614368,\n",
       "        0.62023   , -0.29892078, -1.0756265 , -0.12474725,  0.02079672,\n",
       "       -0.42264083, -0.3757156 ,  0.15899642, -0.25361294,  0.1629386 ,\n",
       "       -0.5267641 , -0.5586619 , -0.5223519 ,  1.1480144 , -0.30685574,\n",
       "        0.26228392,  0.28321913,  0.09009123,  0.4722768 ,  0.41251105,\n",
       "        0.01243882, -0.19944881,  0.36100933, -0.54677457, -0.49412158,\n",
       "        0.6521113 , -0.12052908, -0.71880317, -0.29524294, -0.03906174,\n",
       "        0.21042484, -0.06493968,  0.3130902 , -0.70244664, -0.5534107 ],\n",
       "      dtype=float32)"
      ]
     },
     "execution_count": 217,
     "metadata": {},
     "output_type": "execute_result"
    }
   ],
   "source": [
    "embeddings_index.get(\"minimalist\")"
   ]
  },
  {
   "cell_type": "code",
   "execution_count": 218,
   "metadata": {},
   "outputs": [
    {
     "data": {
      "text/plain": [
       "False"
      ]
     },
     "execution_count": 218,
     "metadata": {},
     "output_type": "execute_result"
    }
   ],
   "source": [
    "np.array_equal(embeddings_matrix[1458], embeddings_index.get(\"minimalist\"))"
   ]
  },
  {
   "cell_type": "code",
   "execution_count": 178,
   "metadata": {},
   "outputs": [
    {
     "name": "stdout",
     "output_type": "stream",
     "text": [
      "(37932, 100)\n"
     ]
    }
   ],
   "source": [
    "import tensorflow as tf\n",
    "from tensorflow.keras.models import Sequential\n",
    "from tensorflow.keras.layers import Dense, Dropout, Activation, Flatten, Embedding\n",
    "\n",
    "def sentiment_simple_nn_word2vec(embeddings_matrix):\n",
    "    model_w2v = Sequential()\n",
    "    e = Embedding(*embeddings_matrix.shape, weights=[embeddings_matrix],\n",
    "                  input_length=word_vector_dim, trainable=True)\n",
    "    model_w2v.add(e)\n",
    "    model_w2v.add(Flatten())\n",
    "    model_w2v.add(Dense(256, activation=\"relu\"))\n",
    "    model_w2v.add(Dense(1, activation=\"sigmoid\"))\n",
    "    model_w2v.compile(loss=\"binary_crossentropy\", optimizer=\"adam\", metrics=[\"accuracy\"])\n",
    "    return model_w2v\n",
    "\n",
    "print(embeddings_matrix.shape)\n",
    "model_nn = sentiment_simple_nn_word2vec(embeddings_matrix)"
   ]
  },
  {
   "cell_type": "code",
   "execution_count": 181,
   "metadata": {},
   "outputs": [
    {
     "name": "stdout",
     "output_type": "stream",
     "text": [
      "Train on 85151 samples, validate on 9462 samples\n",
      "Epoch 1/10\n",
      "85151/85151 [==============================] - 4s 48us/step - loss: 0.5821 - acc: 0.6951 - val_loss: 0.6303 - val_acc: 0.6449\n",
      "Epoch 2/10\n",
      "85151/85151 [==============================] - 4s 46us/step - loss: 0.5417 - acc: 0.7323 - val_loss: 0.6279 - val_acc: 0.6482\n",
      "Epoch 3/10\n",
      "85151/85151 [==============================] - 4s 47us/step - loss: 0.4930 - acc: 0.7711 - val_loss: 0.6375 - val_acc: 0.6568\n",
      "Epoch 4/10\n",
      "85151/85151 [==============================] - 4s 48us/step - loss: 0.4269 - acc: 0.8161 - val_loss: 0.6534 - val_acc: 0.6497\n",
      "Epoch 5/10\n",
      "85151/85151 [==============================] - 4s 50us/step - loss: 0.3525 - acc: 0.8602 - val_loss: 0.6805 - val_acc: 0.6522\n",
      "Epoch 6/10\n",
      "85151/85151 [==============================] - 4s 51us/step - loss: 0.2764 - acc: 0.8988 - val_loss: 0.7398 - val_acc: 0.6362\n",
      "Epoch 7/10\n",
      "85151/85151 [==============================] - 4s 52us/step - loss: 0.2079 - acc: 0.9318 - val_loss: 0.8151 - val_acc: 0.6297\n",
      "Epoch 8/10\n",
      "85151/85151 [==============================] - 4s 53us/step - loss: 0.1550 - acc: 0.9546 - val_loss: 0.8779 - val_acc: 0.6282\n",
      "Epoch 9/10\n",
      "85151/85151 [==============================] - 5s 54us/step - loss: 0.1165 - acc: 0.9694 - val_loss: 0.9626 - val_acc: 0.6218\n",
      "Epoch 10/10\n",
      "85151/85151 [==============================] - 5s 55us/step - loss: 0.0877 - acc: 0.9802 - val_loss: 1.0491 - val_acc: 0.6257\n"
     ]
    },
    {
     "data": {
      "text/plain": [
       "<tensorflow.python.keras.callbacks.History at 0x1ab01e6b38>"
      ]
     },
     "execution_count": 181,
     "metadata": {},
     "output_type": "execute_result"
    }
   ],
   "source": [
    "model_nn.fit(X_train_seq, y_train, validation_data=(X_val_seq, y_val), \n",
    "                epochs=10, batch_size=3000, verbose=1)"
   ]
  },
  {
   "cell_type": "markdown",
   "metadata": {},
   "source": [
    "## Word2Vec with Convolutional Neural Network"
   ]
  },
  {
   "cell_type": "code",
   "execution_count": 222,
   "metadata": {},
   "outputs": [],
   "source": [
    "from tensorflow.keras.layers import (Conv1D, GlobalMaxPooling1D)"
   ]
  },
  {
   "cell_type": "code",
   "execution_count": 223,
   "metadata": {},
   "outputs": [],
   "source": [
    "def sentiment_simple_cnn_word2vec(embeddings_matrix):\n",
    "    model_w2v = Sequential()\n",
    "    e = Embedding(*embeddings_matrix.shape, weights=[embeddings_matrix],\n",
    "                  input_length=word_vector_dim, trainable=True)\n",
    "    model_w2v.add(e)\n",
    "    model_w2v.add(Conv1D(200, kernel_size=1, strides=1, activation=\"relu\", padding=\"valid\"))\n",
    "    model_w2v.add(GlobalMaxPooling1D())\n",
    "    model_w2v.add(Dense(256, activation=\"relu\"))\n",
    "    model_w2v.add(Dense(1, activation=\"sigmoid\"))\n",
    "    model_w2v.compile(loss=\"binary_crossentropy\", optimizer=\"adam\", metrics=[\"accuracy\"])\n",
    "    return model_w2v    \n",
    "\n",
    "model_nn = sentiment_simple_cnn_word2vec(embeddings_matrix)"
   ]
  },
  {
   "cell_type": "code",
   "execution_count": 224,
   "metadata": {},
   "outputs": [
    {
     "name": "stdout",
     "output_type": "stream",
     "text": [
      "Train on 67280 samples, validate on 16820 samples\n",
      "Epoch 1/5\n",
      "67280/67280 [==============================] - 26s 385us/step - loss: 0.6489 - acc: 0.6167 - val_loss: 0.6347 - val_acc: 0.6331\n",
      "Epoch 2/5\n",
      "67280/67280 [==============================] - 25s 372us/step - loss: 0.6117 - acc: 0.6609 - val_loss: 0.6233 - val_acc: 0.6481\n",
      "Epoch 3/5\n",
      "67280/67280 [==============================] - 26s 388us/step - loss: 0.5296 - acc: 0.7353 - val_loss: 0.6693 - val_acc: 0.6444\n",
      "Epoch 4/5\n",
      "10200/67280 [===>..........................] - ETA: 21s - loss: 0.4024 - acc: 0.8084"
     ]
    },
    {
     "ename": "KeyboardInterrupt",
     "evalue": "",
     "output_type": "error",
     "traceback": [
      "\u001b[0;31m---------------------------------------------------------------------------\u001b[0m",
      "\u001b[0;31mKeyboardInterrupt\u001b[0m                         Traceback (most recent call last)",
      "\u001b[0;32m<ipython-input-224-1dd22c0c119b>\u001b[0m in \u001b[0;36m<module>\u001b[0;34m\u001b[0m\n\u001b[1;32m      1\u001b[0m model_nn.fit(X_train_seq, y_train, validation_data=(X_val_seq, y_val), \n\u001b[0;32m----> 2\u001b[0;31m                 epochs=5, batch_size=100, verbose=1)\n\u001b[0m",
      "\u001b[0;32m~/anaconda3/envs/crypto_time_series/lib/python3.6/site-packages/tensorflow/python/keras/engine/training.py\u001b[0m in \u001b[0;36mfit\u001b[0;34m(self, x, y, batch_size, epochs, verbose, callbacks, validation_split, validation_data, shuffle, class_weight, sample_weight, initial_epoch, steps_per_epoch, validation_steps, max_queue_size, workers, use_multiprocessing, **kwargs)\u001b[0m\n\u001b[1;32m   1637\u001b[0m           \u001b[0minitial_epoch\u001b[0m\u001b[0;34m=\u001b[0m\u001b[0minitial_epoch\u001b[0m\u001b[0;34m,\u001b[0m\u001b[0;34m\u001b[0m\u001b[0;34m\u001b[0m\u001b[0m\n\u001b[1;32m   1638\u001b[0m           \u001b[0msteps_per_epoch\u001b[0m\u001b[0;34m=\u001b[0m\u001b[0msteps_per_epoch\u001b[0m\u001b[0;34m,\u001b[0m\u001b[0;34m\u001b[0m\u001b[0;34m\u001b[0m\u001b[0m\n\u001b[0;32m-> 1639\u001b[0;31m           validation_steps=validation_steps)\n\u001b[0m\u001b[1;32m   1640\u001b[0m \u001b[0;34m\u001b[0m\u001b[0m\n\u001b[1;32m   1641\u001b[0m   def evaluate(self,\n",
      "\u001b[0;32m~/anaconda3/envs/crypto_time_series/lib/python3.6/site-packages/tensorflow/python/keras/engine/training_arrays.py\u001b[0m in \u001b[0;36mfit_loop\u001b[0;34m(model, inputs, targets, sample_weights, batch_size, epochs, verbose, callbacks, val_inputs, val_targets, val_sample_weights, shuffle, initial_epoch, steps_per_epoch, validation_steps)\u001b[0m\n\u001b[1;32m    213\u001b[0m           \u001b[0mins_batch\u001b[0m\u001b[0;34m[\u001b[0m\u001b[0mi\u001b[0m\u001b[0;34m]\u001b[0m \u001b[0;34m=\u001b[0m \u001b[0mins_batch\u001b[0m\u001b[0;34m[\u001b[0m\u001b[0mi\u001b[0m\u001b[0;34m]\u001b[0m\u001b[0;34m.\u001b[0m\u001b[0mtoarray\u001b[0m\u001b[0;34m(\u001b[0m\u001b[0;34m)\u001b[0m\u001b[0;34m\u001b[0m\u001b[0;34m\u001b[0m\u001b[0m\n\u001b[1;32m    214\u001b[0m \u001b[0;34m\u001b[0m\u001b[0m\n\u001b[0;32m--> 215\u001b[0;31m         \u001b[0mouts\u001b[0m \u001b[0;34m=\u001b[0m \u001b[0mf\u001b[0m\u001b[0;34m(\u001b[0m\u001b[0mins_batch\u001b[0m\u001b[0;34m)\u001b[0m\u001b[0;34m\u001b[0m\u001b[0;34m\u001b[0m\u001b[0m\n\u001b[0m\u001b[1;32m    216\u001b[0m         \u001b[0;32mif\u001b[0m \u001b[0;32mnot\u001b[0m \u001b[0misinstance\u001b[0m\u001b[0;34m(\u001b[0m\u001b[0mouts\u001b[0m\u001b[0;34m,\u001b[0m \u001b[0mlist\u001b[0m\u001b[0;34m)\u001b[0m\u001b[0;34m:\u001b[0m\u001b[0;34m\u001b[0m\u001b[0;34m\u001b[0m\u001b[0m\n\u001b[1;32m    217\u001b[0m           \u001b[0mouts\u001b[0m \u001b[0;34m=\u001b[0m \u001b[0;34m[\u001b[0m\u001b[0mouts\u001b[0m\u001b[0;34m]\u001b[0m\u001b[0;34m\u001b[0m\u001b[0;34m\u001b[0m\u001b[0m\n",
      "\u001b[0;32m~/anaconda3/envs/crypto_time_series/lib/python3.6/site-packages/tensorflow/python/keras/backend.py\u001b[0m in \u001b[0;36m__call__\u001b[0;34m(self, inputs)\u001b[0m\n\u001b[1;32m   2984\u001b[0m \u001b[0;34m\u001b[0m\u001b[0m\n\u001b[1;32m   2985\u001b[0m     fetched = self._callable_fn(*array_vals,\n\u001b[0;32m-> 2986\u001b[0;31m                                 run_metadata=self.run_metadata)\n\u001b[0m\u001b[1;32m   2987\u001b[0m     \u001b[0mself\u001b[0m\u001b[0;34m.\u001b[0m\u001b[0m_call_fetch_callbacks\u001b[0m\u001b[0;34m(\u001b[0m\u001b[0mfetched\u001b[0m\u001b[0;34m[\u001b[0m\u001b[0;34m-\u001b[0m\u001b[0mlen\u001b[0m\u001b[0;34m(\u001b[0m\u001b[0mself\u001b[0m\u001b[0;34m.\u001b[0m\u001b[0m_fetches\u001b[0m\u001b[0;34m)\u001b[0m\u001b[0;34m:\u001b[0m\u001b[0;34m]\u001b[0m\u001b[0;34m)\u001b[0m\u001b[0;34m\u001b[0m\u001b[0;34m\u001b[0m\u001b[0m\n\u001b[1;32m   2988\u001b[0m     \u001b[0;32mreturn\u001b[0m \u001b[0mfetched\u001b[0m\u001b[0;34m[\u001b[0m\u001b[0;34m:\u001b[0m\u001b[0mlen\u001b[0m\u001b[0;34m(\u001b[0m\u001b[0mself\u001b[0m\u001b[0;34m.\u001b[0m\u001b[0moutputs\u001b[0m\u001b[0;34m)\u001b[0m\u001b[0;34m]\u001b[0m\u001b[0;34m\u001b[0m\u001b[0;34m\u001b[0m\u001b[0m\n",
      "\u001b[0;32m~/anaconda3/envs/crypto_time_series/lib/python3.6/site-packages/tensorflow/python/client/session.py\u001b[0m in \u001b[0;36m__call__\u001b[0;34m(self, *args, **kwargs)\u001b[0m\n\u001b[1;32m   1437\u001b[0m           ret = tf_session.TF_SessionRunCallable(\n\u001b[1;32m   1438\u001b[0m               \u001b[0mself\u001b[0m\u001b[0;34m.\u001b[0m\u001b[0m_session\u001b[0m\u001b[0;34m.\u001b[0m\u001b[0m_session\u001b[0m\u001b[0;34m,\u001b[0m \u001b[0mself\u001b[0m\u001b[0;34m.\u001b[0m\u001b[0m_handle\u001b[0m\u001b[0;34m,\u001b[0m \u001b[0margs\u001b[0m\u001b[0;34m,\u001b[0m \u001b[0mstatus\u001b[0m\u001b[0;34m,\u001b[0m\u001b[0;34m\u001b[0m\u001b[0;34m\u001b[0m\u001b[0m\n\u001b[0;32m-> 1439\u001b[0;31m               run_metadata_ptr)\n\u001b[0m\u001b[1;32m   1440\u001b[0m         \u001b[0;32mif\u001b[0m \u001b[0mrun_metadata\u001b[0m\u001b[0;34m:\u001b[0m\u001b[0;34m\u001b[0m\u001b[0;34m\u001b[0m\u001b[0m\n\u001b[1;32m   1441\u001b[0m           \u001b[0mproto_data\u001b[0m \u001b[0;34m=\u001b[0m \u001b[0mtf_session\u001b[0m\u001b[0;34m.\u001b[0m\u001b[0mTF_GetBuffer\u001b[0m\u001b[0;34m(\u001b[0m\u001b[0mrun_metadata_ptr\u001b[0m\u001b[0;34m)\u001b[0m\u001b[0;34m\u001b[0m\u001b[0;34m\u001b[0m\u001b[0m\n",
      "\u001b[0;31mKeyboardInterrupt\u001b[0m: "
     ]
    }
   ],
   "source": [
    "model_nn.fit(X_train_seq, y_train, validation_data=(X_val_seq, y_val), \n",
    "                epochs=5, batch_size=100, verbose=1)"
   ]
  },
  {
   "cell_type": "code",
   "execution_count": 232,
   "metadata": {},
   "outputs": [],
   "source": [
    "from tensorflow.keras.layers import Input, concatenate, Activation\n",
    "from tensorflow.keras.models import Model\n",
    "\n",
    "def sentiment_complex_cnn_word2vec(embeddings_matrix):\n",
    "    inputs = Input(shape=(word_vector_dim,), dtype=\"int32\")\n",
    "    \n",
    "    encoder = Embedding(*embeddings_matrix.shape, weights=[embeddings_matrix],\n",
    "                  input_length=word_vector_dim, trainable=True)(inputs)\n",
    "    \n",
    "    bigram_branch = Conv1D(filters=30, kernel_size=2, padding='valid', \n",
    "                           activation='relu', strides=1)(encoder)\n",
    "    bigram_branch = GlobalMaxPooling1D()(bigram_branch)\n",
    "    \n",
    "    trigram_branch = Conv1D(filters=30, kernel_size=3, padding='valid', \n",
    "                            activation='relu', strides=1)(encoder)\n",
    "    trigram_branch = GlobalMaxPooling1D()(trigram_branch)\n",
    "    \n",
    "    fourgram_branch = Conv1D(filters=30, kernel_size=4, padding='valid', \n",
    "                             activation='relu', strides=1)(encoder)\n",
    "    fourgram_branch = GlobalMaxPooling1D()(fourgram_branch)\n",
    "    \n",
    "    merged = concatenate([bigram_branch, trigram_branch, fourgram_branch], axis=1)\n",
    "    merged = Dense(128, activation=\"relu\")(merged)\n",
    "    merged = Dropout(0.5)(merged)\n",
    "    output = Dense(1, activation=\"sigmoid\")(merged)\n",
    "    \n",
    "    model = Model(inputs=[inputs], outputs=[output])\n",
    "    model.compile(loss=\"binary_crossentropy\", optimizer=\"adam\", metrics=[\"accuracy\"])\n",
    "    return model\n",
    "\n",
    "model_nn = sentiment_complex_cnn_word2vec(embeddings_matrix)"
   ]
  },
  {
   "cell_type": "code",
   "execution_count": 233,
   "metadata": {},
   "outputs": [
    {
     "name": "stdout",
     "output_type": "stream",
     "text": [
      "Train on 67280 samples, validate on 16820 samples\n",
      "Epoch 1/5\n",
      "67280/67280 [==============================] - 26s 389us/step - loss: 0.6772 - acc: 0.5897 - val_loss: 0.6511 - val_acc: 0.6151\n",
      "Epoch 2/5\n",
      "67280/67280 [==============================] - 26s 382us/step - loss: 0.6418 - acc: 0.6274 - val_loss: 0.6446 - val_acc: 0.6228\n",
      "Epoch 3/5\n",
      "67280/67280 [==============================] - 26s 387us/step - loss: 0.6245 - acc: 0.6492 - val_loss: 0.6337 - val_acc: 0.6361\n",
      "Epoch 4/5\n",
      "67280/67280 [==============================] - 26s 387us/step - loss: 0.6044 - acc: 0.6716 - val_loss: 0.6265 - val_acc: 0.6451\n",
      "Epoch 5/5\n",
      "67280/67280 [==============================] - 26s 387us/step - loss: 0.5724 - acc: 0.7008 - val_loss: 0.6324 - val_acc: 0.6373\n"
     ]
    },
    {
     "data": {
      "text/plain": [
       "<tensorflow.python.keras.callbacks.History at 0x1ade160d68>"
      ]
     },
     "execution_count": 233,
     "metadata": {},
     "output_type": "execute_result"
    }
   ],
   "source": [
    "model_nn.fit(X_train_seq, y_train, validation_data=(X_val_seq, y_val), \n",
    "             epochs=10, batch_size=1000, verbose=1)"
   ]
  },
  {
   "cell_type": "code",
   "execution_count": null,
   "metadata": {
    "collapsed": true
   },
   "outputs": [],
   "source": [
    "# class MeanEmbeddingVectorizer(object):\n",
    "#     def __init__(self, word2vec):\n",
    "#         self.word2vec = word2vec\n",
    "#         # if a text is empty we should return a vector of zeros\n",
    "#         # with the same dimensionality as all the other vectors\n",
    "#         self.dim = len(word2vec.wv.syn0[0])\n",
    "\n",
    "#     def fit(self, X, y=None):\n",
    "#         return self\n",
    "\n",
    "#     def transform(self, X):\n",
    "#         tokens = []\n",
    "#         for row in X:\n",
    "#             tokens.append(re.split(r\"[^a-zA-Z]+\", row))\n",
    "            \n",
    "#         return np.array([\n",
    "#            np.mean([self.word2vec.wv[word] for word in sentence if word in self.word2vec.wv]\n",
    "#                    or [np.zeros(self.dim)], axis=0)\n",
    "#            for sentence in tokens\n",
    "#         ])\n",
    "            \n",
    "# #         embeddings = np.zeros((len(tokens), self.dim))\n",
    "# #         for i in range(self.dim):  # tokens:\n",
    "# #             sentence_len = len(tokens[i])\n",
    "# #             embedding = np.zeros((sentence_len, self.dim))\n",
    "# #             for j in range(sentence_len):\n",
    "# #                 word = tokens[i][j]\n",
    "# #                 if word in self.word2vec.wv or [np.zeros(self.dim)]:\n",
    "# #                     embedding[j] = self.word2vec.wv[word]\n",
    "# #                 else:\n",
    "# #                     embedding[j] = np.zeros(self.dim)\n",
    "# #             embeddings[i] = np.mean(embedding)\n",
    "            \n",
    "# #         return embeddings\n",
    "            \n",
    "#     def fit_transform(self, X, y=None):\n",
    "#         return self.transform(X)"
   ]
  },
  {
   "cell_type": "code",
   "execution_count": null,
   "metadata": {
    "collapsed": true
   },
   "outputs": [],
   "source": [
    "# from sklearn.svm import LinearSVC\n",
    "# from sklearn.pipeline import Pipeline\n",
    "# from sklearn.metrics import accuracy_score\n",
    "\n",
    "# mean_embedding_vectorizer = MeanEmbeddingVectorizer(word2vec)\n",
    "# mean_embedded =  mean_embedding_vectorizer.fit_transform(X_train)\n",
    "\n",
    "# svc2 = LinearSVC(loss=\"hinge\", max_iter=200, random_state=42, tol=1e-10)\n",
    "# svc2.fit(mean_embedded, y_train)\n",
    "# pred = svc2.predict(mean_embedded)\n",
    "# accuracy = accuracy_score(pred, y_train)\n",
    "# print(f\"Training Acc: {accuracy}\")\n",
    "\n",
    "# mean_embedded_test =  mean_embedding_vectorizer.fit_transform(X_test)\n",
    "# pred_test = svc2.predict(mean_embedded_test)\n",
    "# accuracy = accuracy_score(pred_test, y_test)\n",
    "# print(f\"validation acc: {accuracy}\")"
   ]
  },
  {
   "cell_type": "code",
   "execution_count": null,
   "metadata": {
    "collapsed": true
   },
   "outputs": [],
   "source": [
    "# rdm_forest_clf = RandomForestClassifier(n_estimators=200, max_depth=50)\n",
    "# rdm_forest_clf.fit(mean_embedded, y_train)\n",
    "# pred = rdm_forest_clf.predict(mean_embedded)\n",
    "# accuracy = accuracy_score(pred, y_train)\n",
    "# print(f\"Training Acc: {accuracy}\")\n",
    "\n",
    "# pred_test = rdm_forest_clf.predict(mean_embedded_test)\n",
    "# accuracy = accuracy_score(pred_test, y_test)\n",
    "# print(f\"validation acc: {accuracy}\")"
   ]
  },
  {
   "cell_type": "code",
   "execution_count": null,
   "metadata": {
    "collapsed": true
   },
   "outputs": [],
   "source": [
    "nn_model_2.fit(mean_embedded, y_train, epochs=5, verbose=True, \n",
    "               batch_size=5000, validation_data=(mean_embedded_test, y_test))"
   ]
  },
  {
   "cell_type": "code",
   "execution_count": null,
   "metadata": {
    "collapsed": true
   },
   "outputs": [],
   "source": [
    "loss, accuracy = nn_model.evaluate(mean_embedded, y_train)\n",
    "print(f\"Training Acc: {accuracy}\")\n",
    "loss, accuracy = nn_model.evaluate(mean_embedded_test, y_test)\n",
    "print(f\"Training Acc: {accuracy}\")"
   ]
  },
  {
   "cell_type": "markdown",
   "metadata": {},
   "source": [
    "## Final Model Evaluation"
   ]
  },
  {
   "cell_type": "markdown",
   "metadata": {},
   "source": [
    "### Advance Feature Engineering with CNN"
   ]
  },
  {
   "cell_type": "markdown",
   "metadata": {},
   "source": [
    "Whether to use advance feature engineering. Compare CNN with best SKlearn estimator."
   ]
  },
  {
   "cell_type": "code",
   "execution_count": 255,
   "metadata": {},
   "outputs": [
    {
     "data": {
      "text/plain": [
       "'(84100,), (84100,), (21026,), (21026,)'"
      ]
     },
     "execution_count": 255,
     "metadata": {},
     "output_type": "execute_result"
    }
   ],
   "source": [
    "# Original training and test set\n",
    "X_train = pd.Series(np.load(open(\"./data/nn_X_train.npy\", \"rb\")))\n",
    "y_train = np.load(open(\"./data/nn_y_train.npy\", \"rb\"))\n",
    "X_test = pd.Series(np.load(open(\"./data/nn_X_test.npy\", \"rb\")))\n",
    "y_test = np.load(open(\"./data/nn_y_test.npy\", \"rb\"))\n",
    "\n",
    "f\"{X_train.shape}, {y_train.shape}, {X_test.shape}, {y_test.shape}\""
   ]
  },
  {
   "cell_type": "markdown",
   "metadata": {},
   "source": [
    "### SVC"
   ]
  },
  {
   "cell_type": "code",
   "execution_count": 286,
   "metadata": {},
   "outputs": [],
   "source": [
    "text_clf_svc.fit(X_train, y_train)\n",
    "pred_svc_bin = text_clf_svc.predict(X_test)"
   ]
  },
  {
   "cell_type": "code",
   "execution_count": 287,
   "metadata": {},
   "outputs": [
    {
     "data": {
      "text/plain": [
       "0.6732141158565585"
      ]
     },
     "execution_count": 287,
     "metadata": {},
     "output_type": "execute_result"
    }
   ],
   "source": [
    "accuracy_score(y_test, pred_svc_bin)"
   ]
  },
  {
   "cell_type": "markdown",
   "metadata": {},
   "source": [
    "### CNN"
   ]
  },
  {
   "cell_type": "code",
   "execution_count": 288,
   "metadata": {},
   "outputs": [
    {
     "name": "stdout",
     "output_type": "stream",
     "text": [
      "21026/21026 [==============================] - 2s 97us/step\n"
     ]
    },
    {
     "data": {
      "text/plain": [
       "[0.6277800818089696, 0.6469133453819081]"
      ]
     },
     "execution_count": 288,
     "metadata": {},
     "output_type": "execute_result"
    }
   ],
   "source": [
    "sequence_test = tokenizer.texts_to_sequences(X_test)\n",
    "X_test_seq = pad_sequences(sequence_test, maxlen=word_vector_dim)\n",
    "pred_cnn = model_nn.predict(X_test_seq)\n",
    "model_nn.evaluate(X_test_seq, y_test)"
   ]
  },
  {
   "cell_type": "markdown",
   "metadata": {},
   "source": [
    "### Comparison"
   ]
  },
  {
   "cell_type": "code",
   "execution_count": 290,
   "metadata": {},
   "outputs": [
    {
     "data": {
      "image/png": "[encoded data removed]",
      "text/plain": [
       "<Figure size 576x504 with 1 Axes>"
      ]
     },
     "metadata": {
      "needs_background": "light"
     },
     "output_type": "display_data"
    }
   ],
   "source": [
    "from sklearn.metrics import roc_curve, auc\n",
    "\n",
    "fpr_svc, tpr_svc, threshold_svc = roc_curve(y_test, pred_svc_bin)\n",
    "roc_auc_svc = auc(fpr_svc, tpr_svc)\n",
    "\n",
    "fpr_cnn, tpr_cnn, threshold_cnn = roc_curve(y_test, pred_cnn)\n",
    "roc_auc_cnn = auc(fpr_cnn, tpr_cnn)\n",
    "\n",
    "plt.figure(figsize=(8,7))\n",
    "plt.plot(fpr, tpr, label='tfidf-svc (area = %0.3f)' % roc_auc_svc, linewidth=2)\n",
    "plt.plot(fpr_cnn, tpr_cnn, label='w2v-CNN (area = %0.3f)' % roc_auc_cnn, linewidth=2)\n",
    "\n",
    "plt.plot([0, 1], [0, 1], 'k--', linewidth=2)\n",
    "plt.xlim([-0.05, 1.0])\n",
    "plt.ylim([-0.05, 1.05])\n",
    "plt.xlabel('False Positive Rate', fontsize=18)\n",
    "plt.ylabel('True Positive Rate', fontsize=18)\n",
    "plt.title('Receiver operating characteristic: is positive', fontsize=18)\n",
    "plt.legend(loc=\"lower right\")\n",
    "plt.show()"
   ]
  },
  {
   "cell_type": "markdown",
   "metadata": {},
   "source": [
    "## References"
   ]
  },
  {
   "cell_type": "markdown",
   "metadata": {},
   "source": [
    "[] https://machinelearningmastery.com/clean-text-machine-learning-python/\n",
    "\n",
    "[] https://towardsdatascience.com/a-practitioners-guide-to-natural-language-processing-part-i-processing-understanding-text-9f4abfd13e72\n",
    "\n",
    "[] https://towardsdatascience.com/machine-learning-nlp-text-classification-using-scikit-learn-python-and-nltk-c52b92a7c73a\n",
    "\n",
    "[] https://medium.com/@dobko_m/nlp-text-data-cleaning-and-preprocessing-ea3ffe0406c1\n",
    "\n",
    "[] https://medium.com/data-from-the-trenches/text-classification-the-first-step-toward-nlp-mastery-f5f95d525d73\n",
    "\n",
    "[] http://www.nltk.org/howto/wordnet.html\n",
    "\n",
    "[] https://realpython.com/python-keras-text-classification/\n",
    "\n",
    "[] http://nadbordrozd.github.io/blog/2016/05/20/text-classification-with-word2vec/\n",
    "\n",
    "[] https://machinelearningmastery.com/develop-word-embeddings-python-gensim/\n",
    "\n",
    "[] https://towardsdatascience.com/word-embedding-with-word2vec-and-fasttext-a209c1d3e12c\n",
    "\n",
    "[] https://towardsdatascience.com/another-twitter-sentiment-analysis-with-python-part-11-cnn-word2vec-41f5e28eda74"
   ]
  }
 ],
 "metadata": {
  "kernelspec": {
   "display_name": "Python [conda env:crypto_time_series]",
   "language": "python",
   "name": "conda-env-crypto_time_series-py"
  },
  "language_info": {
   "codemirror_mode": {
    "name": "ipython",
    "version": 3
   },
   "file_extension": ".py",
   "mimetype": "text/x-python",
   "name": "python",
   "nbconvert_exporter": "python",
   "pygments_lexer": "ipython3",
   "version": "3.6.7"
  }
 },
 "nbformat": 4,
 "nbformat_minor": 2
}
